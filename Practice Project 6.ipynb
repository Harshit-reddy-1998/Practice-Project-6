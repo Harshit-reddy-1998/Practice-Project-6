{
 "cells": [
  {
   "cell_type": "code",
   "execution_count": 1,
   "metadata": {},
   "outputs": [],
   "source": [
    "import pandas as pd\n",
    "import numpy as np\n",
    "import matplotlib.pyplot as plt\n",
    "import seaborn as sns\n",
    "import warnings\n",
    "warnings.filterwarnings('ignore')"
   ]
  },
  {
   "cell_type": "code",
   "execution_count": 2,
   "metadata": {},
   "outputs": [
    {
     "data": {
      "text/html": [
       "<div>\n",
       "<style scoped>\n",
       "    .dataframe tbody tr th:only-of-type {\n",
       "        vertical-align: middle;\n",
       "    }\n",
       "\n",
       "    .dataframe tbody tr th {\n",
       "        vertical-align: top;\n",
       "    }\n",
       "\n",
       "    .dataframe thead th {\n",
       "        text-align: right;\n",
       "    }\n",
       "</style>\n",
       "<table border=\"1\" class=\"dataframe\">\n",
       "  <thead>\n",
       "    <tr style=\"text-align: right;\">\n",
       "      <th></th>\n",
       "      <th>Unnamed: 0</th>\n",
       "      <th>TV</th>\n",
       "      <th>radio</th>\n",
       "      <th>newspaper</th>\n",
       "      <th>sales</th>\n",
       "    </tr>\n",
       "  </thead>\n",
       "  <tbody>\n",
       "    <tr>\n",
       "      <th>0</th>\n",
       "      <td>1</td>\n",
       "      <td>230.1</td>\n",
       "      <td>37.8</td>\n",
       "      <td>69.2</td>\n",
       "      <td>22.1</td>\n",
       "    </tr>\n",
       "    <tr>\n",
       "      <th>1</th>\n",
       "      <td>2</td>\n",
       "      <td>44.5</td>\n",
       "      <td>39.3</td>\n",
       "      <td>45.1</td>\n",
       "      <td>10.4</td>\n",
       "    </tr>\n",
       "    <tr>\n",
       "      <th>2</th>\n",
       "      <td>3</td>\n",
       "      <td>17.2</td>\n",
       "      <td>45.9</td>\n",
       "      <td>69.3</td>\n",
       "      <td>9.3</td>\n",
       "    </tr>\n",
       "    <tr>\n",
       "      <th>3</th>\n",
       "      <td>4</td>\n",
       "      <td>151.5</td>\n",
       "      <td>41.3</td>\n",
       "      <td>58.5</td>\n",
       "      <td>18.5</td>\n",
       "    </tr>\n",
       "    <tr>\n",
       "      <th>4</th>\n",
       "      <td>5</td>\n",
       "      <td>180.8</td>\n",
       "      <td>10.8</td>\n",
       "      <td>58.4</td>\n",
       "      <td>12.9</td>\n",
       "    </tr>\n",
       "    <tr>\n",
       "      <th>...</th>\n",
       "      <td>...</td>\n",
       "      <td>...</td>\n",
       "      <td>...</td>\n",
       "      <td>...</td>\n",
       "      <td>...</td>\n",
       "    </tr>\n",
       "    <tr>\n",
       "      <th>195</th>\n",
       "      <td>196</td>\n",
       "      <td>38.2</td>\n",
       "      <td>3.7</td>\n",
       "      <td>13.8</td>\n",
       "      <td>7.6</td>\n",
       "    </tr>\n",
       "    <tr>\n",
       "      <th>196</th>\n",
       "      <td>197</td>\n",
       "      <td>94.2</td>\n",
       "      <td>4.9</td>\n",
       "      <td>8.1</td>\n",
       "      <td>9.7</td>\n",
       "    </tr>\n",
       "    <tr>\n",
       "      <th>197</th>\n",
       "      <td>198</td>\n",
       "      <td>177.0</td>\n",
       "      <td>9.3</td>\n",
       "      <td>6.4</td>\n",
       "      <td>12.8</td>\n",
       "    </tr>\n",
       "    <tr>\n",
       "      <th>198</th>\n",
       "      <td>199</td>\n",
       "      <td>283.6</td>\n",
       "      <td>42.0</td>\n",
       "      <td>66.2</td>\n",
       "      <td>25.5</td>\n",
       "    </tr>\n",
       "    <tr>\n",
       "      <th>199</th>\n",
       "      <td>200</td>\n",
       "      <td>232.1</td>\n",
       "      <td>8.6</td>\n",
       "      <td>8.7</td>\n",
       "      <td>13.4</td>\n",
       "    </tr>\n",
       "  </tbody>\n",
       "</table>\n",
       "<p>200 rows × 5 columns</p>\n",
       "</div>"
      ],
      "text/plain": [
       "     Unnamed: 0     TV  radio  newspaper  sales\n",
       "0             1  230.1   37.8       69.2   22.1\n",
       "1             2   44.5   39.3       45.1   10.4\n",
       "2             3   17.2   45.9       69.3    9.3\n",
       "3             4  151.5   41.3       58.5   18.5\n",
       "4             5  180.8   10.8       58.4   12.9\n",
       "..          ...    ...    ...        ...    ...\n",
       "195         196   38.2    3.7       13.8    7.6\n",
       "196         197   94.2    4.9        8.1    9.7\n",
       "197         198  177.0    9.3        6.4   12.8\n",
       "198         199  283.6   42.0       66.2   25.5\n",
       "199         200  232.1    8.6        8.7   13.4\n",
       "\n",
       "[200 rows x 5 columns]"
      ]
     },
     "execution_count": 2,
     "metadata": {},
     "output_type": "execute_result"
    }
   ],
   "source": [
    "df=pd.read_csv('saleschannel.csv')\n",
    "df"
   ]
  },
  {
   "cell_type": "code",
   "execution_count": 3,
   "metadata": {},
   "outputs": [],
   "source": [
    "df.drop('Unnamed: 0',axis=1,inplace=True)"
   ]
  },
  {
   "cell_type": "code",
   "execution_count": 4,
   "metadata": {},
   "outputs": [
    {
     "data": {
      "text/html": [
       "<div>\n",
       "<style scoped>\n",
       "    .dataframe tbody tr th:only-of-type {\n",
       "        vertical-align: middle;\n",
       "    }\n",
       "\n",
       "    .dataframe tbody tr th {\n",
       "        vertical-align: top;\n",
       "    }\n",
       "\n",
       "    .dataframe thead th {\n",
       "        text-align: right;\n",
       "    }\n",
       "</style>\n",
       "<table border=\"1\" class=\"dataframe\">\n",
       "  <thead>\n",
       "    <tr style=\"text-align: right;\">\n",
       "      <th></th>\n",
       "      <th>TV</th>\n",
       "      <th>radio</th>\n",
       "      <th>newspaper</th>\n",
       "      <th>sales</th>\n",
       "    </tr>\n",
       "  </thead>\n",
       "  <tbody>\n",
       "    <tr>\n",
       "      <th>0</th>\n",
       "      <td>230.1</td>\n",
       "      <td>37.8</td>\n",
       "      <td>69.2</td>\n",
       "      <td>22.1</td>\n",
       "    </tr>\n",
       "    <tr>\n",
       "      <th>1</th>\n",
       "      <td>44.5</td>\n",
       "      <td>39.3</td>\n",
       "      <td>45.1</td>\n",
       "      <td>10.4</td>\n",
       "    </tr>\n",
       "    <tr>\n",
       "      <th>2</th>\n",
       "      <td>17.2</td>\n",
       "      <td>45.9</td>\n",
       "      <td>69.3</td>\n",
       "      <td>9.3</td>\n",
       "    </tr>\n",
       "    <tr>\n",
       "      <th>3</th>\n",
       "      <td>151.5</td>\n",
       "      <td>41.3</td>\n",
       "      <td>58.5</td>\n",
       "      <td>18.5</td>\n",
       "    </tr>\n",
       "    <tr>\n",
       "      <th>4</th>\n",
       "      <td>180.8</td>\n",
       "      <td>10.8</td>\n",
       "      <td>58.4</td>\n",
       "      <td>12.9</td>\n",
       "    </tr>\n",
       "    <tr>\n",
       "      <th>...</th>\n",
       "      <td>...</td>\n",
       "      <td>...</td>\n",
       "      <td>...</td>\n",
       "      <td>...</td>\n",
       "    </tr>\n",
       "    <tr>\n",
       "      <th>195</th>\n",
       "      <td>38.2</td>\n",
       "      <td>3.7</td>\n",
       "      <td>13.8</td>\n",
       "      <td>7.6</td>\n",
       "    </tr>\n",
       "    <tr>\n",
       "      <th>196</th>\n",
       "      <td>94.2</td>\n",
       "      <td>4.9</td>\n",
       "      <td>8.1</td>\n",
       "      <td>9.7</td>\n",
       "    </tr>\n",
       "    <tr>\n",
       "      <th>197</th>\n",
       "      <td>177.0</td>\n",
       "      <td>9.3</td>\n",
       "      <td>6.4</td>\n",
       "      <td>12.8</td>\n",
       "    </tr>\n",
       "    <tr>\n",
       "      <th>198</th>\n",
       "      <td>283.6</td>\n",
       "      <td>42.0</td>\n",
       "      <td>66.2</td>\n",
       "      <td>25.5</td>\n",
       "    </tr>\n",
       "    <tr>\n",
       "      <th>199</th>\n",
       "      <td>232.1</td>\n",
       "      <td>8.6</td>\n",
       "      <td>8.7</td>\n",
       "      <td>13.4</td>\n",
       "    </tr>\n",
       "  </tbody>\n",
       "</table>\n",
       "<p>200 rows × 4 columns</p>\n",
       "</div>"
      ],
      "text/plain": [
       "        TV  radio  newspaper  sales\n",
       "0    230.1   37.8       69.2   22.1\n",
       "1     44.5   39.3       45.1   10.4\n",
       "2     17.2   45.9       69.3    9.3\n",
       "3    151.5   41.3       58.5   18.5\n",
       "4    180.8   10.8       58.4   12.9\n",
       "..     ...    ...        ...    ...\n",
       "195   38.2    3.7       13.8    7.6\n",
       "196   94.2    4.9        8.1    9.7\n",
       "197  177.0    9.3        6.4   12.8\n",
       "198  283.6   42.0       66.2   25.5\n",
       "199  232.1    8.6        8.7   13.4\n",
       "\n",
       "[200 rows x 4 columns]"
      ]
     },
     "execution_count": 4,
     "metadata": {},
     "output_type": "execute_result"
    }
   ],
   "source": [
    "df"
   ]
  },
  {
   "cell_type": "code",
   "execution_count": 5,
   "metadata": {},
   "outputs": [
    {
     "data": {
      "text/plain": [
       "(200, 4)"
      ]
     },
     "execution_count": 5,
     "metadata": {},
     "output_type": "execute_result"
    }
   ],
   "source": [
    "df.shape"
   ]
  },
  {
   "cell_type": "markdown",
   "metadata": {},
   "source": [
    "Here, we have 200 rows and 4 columns."
   ]
  },
  {
   "cell_type": "code",
   "execution_count": 6,
   "metadata": {},
   "outputs": [
    {
     "data": {
      "text/plain": [
       "TV           float64\n",
       "radio        float64\n",
       "newspaper    float64\n",
       "sales        float64\n",
       "dtype: object"
      ]
     },
     "execution_count": 6,
     "metadata": {},
     "output_type": "execute_result"
    }
   ],
   "source": [
    "df.dtypes"
   ]
  },
  {
   "cell_type": "markdown",
   "metadata": {},
   "source": [
    "Here, we have float type values in all the columns."
   ]
  },
  {
   "cell_type": "markdown",
   "metadata": {},
   "source": [
    "# To check missing values "
   ]
  },
  {
   "cell_type": "code",
   "execution_count": 7,
   "metadata": {},
   "outputs": [
    {
     "data": {
      "text/plain": [
       "TV           0\n",
       "radio        0\n",
       "newspaper    0\n",
       "sales        0\n",
       "dtype: int64"
      ]
     },
     "execution_count": 7,
     "metadata": {},
     "output_type": "execute_result"
    }
   ],
   "source": [
    "df.isnull().sum()"
   ]
  },
  {
   "cell_type": "markdown",
   "metadata": {},
   "source": [
    "Here, there are no missing values."
   ]
  },
  {
   "cell_type": "code",
   "execution_count": 8,
   "metadata": {},
   "outputs": [
    {
     "data": {
      "text/plain": [
       "<AxesSubplot:>"
      ]
     },
     "execution_count": 8,
     "metadata": {},
     "output_type": "execute_result"
    },
    {
     "data": {
      "image/png": "[encoded data removed]",
      "text/plain": [
       "<Figure size 432x288 with 2 Axes>"
      ]
     },
     "metadata": {
      "needs_background": "light"
     },
     "output_type": "display_data"
    }
   ],
   "source": [
    "sns.heatmap(df.isnull())"
   ]
  },
  {
   "cell_type": "markdown",
   "metadata": {},
   "source": [
    "# Summary Statistics"
   ]
  },
  {
   "cell_type": "code",
   "execution_count": 9,
   "metadata": {},
   "outputs": [
    {
     "data": {
      "text/html": [
       "<div>\n",
       "<style scoped>\n",
       "    .dataframe tbody tr th:only-of-type {\n",
       "        vertical-align: middle;\n",
       "    }\n",
       "\n",
       "    .dataframe tbody tr th {\n",
       "        vertical-align: top;\n",
       "    }\n",
       "\n",
       "    .dataframe thead th {\n",
       "        text-align: right;\n",
       "    }\n",
       "</style>\n",
       "<table border=\"1\" class=\"dataframe\">\n",
       "  <thead>\n",
       "    <tr style=\"text-align: right;\">\n",
       "      <th></th>\n",
       "      <th>TV</th>\n",
       "      <th>radio</th>\n",
       "      <th>newspaper</th>\n",
       "      <th>sales</th>\n",
       "    </tr>\n",
       "  </thead>\n",
       "  <tbody>\n",
       "    <tr>\n",
       "      <th>count</th>\n",
       "      <td>200.000000</td>\n",
       "      <td>200.000000</td>\n",
       "      <td>200.000000</td>\n",
       "      <td>200.000000</td>\n",
       "    </tr>\n",
       "    <tr>\n",
       "      <th>mean</th>\n",
       "      <td>147.042500</td>\n",
       "      <td>23.264000</td>\n",
       "      <td>30.554000</td>\n",
       "      <td>14.022500</td>\n",
       "    </tr>\n",
       "    <tr>\n",
       "      <th>std</th>\n",
       "      <td>85.854236</td>\n",
       "      <td>14.846809</td>\n",
       "      <td>21.778621</td>\n",
       "      <td>5.217457</td>\n",
       "    </tr>\n",
       "    <tr>\n",
       "      <th>min</th>\n",
       "      <td>0.700000</td>\n",
       "      <td>0.000000</td>\n",
       "      <td>0.300000</td>\n",
       "      <td>1.600000</td>\n",
       "    </tr>\n",
       "    <tr>\n",
       "      <th>25%</th>\n",
       "      <td>74.375000</td>\n",
       "      <td>9.975000</td>\n",
       "      <td>12.750000</td>\n",
       "      <td>10.375000</td>\n",
       "    </tr>\n",
       "    <tr>\n",
       "      <th>50%</th>\n",
       "      <td>149.750000</td>\n",
       "      <td>22.900000</td>\n",
       "      <td>25.750000</td>\n",
       "      <td>12.900000</td>\n",
       "    </tr>\n",
       "    <tr>\n",
       "      <th>75%</th>\n",
       "      <td>218.825000</td>\n",
       "      <td>36.525000</td>\n",
       "      <td>45.100000</td>\n",
       "      <td>17.400000</td>\n",
       "    </tr>\n",
       "    <tr>\n",
       "      <th>max</th>\n",
       "      <td>296.400000</td>\n",
       "      <td>49.600000</td>\n",
       "      <td>114.000000</td>\n",
       "      <td>27.000000</td>\n",
       "    </tr>\n",
       "  </tbody>\n",
       "</table>\n",
       "</div>"
      ],
      "text/plain": [
       "               TV       radio   newspaper       sales\n",
       "count  200.000000  200.000000  200.000000  200.000000\n",
       "mean   147.042500   23.264000   30.554000   14.022500\n",
       "std     85.854236   14.846809   21.778621    5.217457\n",
       "min      0.700000    0.000000    0.300000    1.600000\n",
       "25%     74.375000    9.975000   12.750000   10.375000\n",
       "50%    149.750000   22.900000   25.750000   12.900000\n",
       "75%    218.825000   36.525000   45.100000   17.400000\n",
       "max    296.400000   49.600000  114.000000   27.000000"
      ]
     },
     "execution_count": 9,
     "metadata": {},
     "output_type": "execute_result"
    }
   ],
   "source": [
    "df.describe()"
   ]
  },
  {
   "cell_type": "markdown",
   "metadata": {},
   "source": [
    "1. The mean is higher than median in radio, newspaper and sales columns where as median is higher than mean in TV column."
   ]
  },
  {
   "cell_type": "markdown",
   "metadata": {},
   "source": [
    "2. There is a large differnce in 75th percentile and max in newspaper column."
   ]
  },
  {
   "cell_type": "markdown",
   "metadata": {},
   "source": [
    "# To check correlation"
   ]
  },
  {
   "cell_type": "code",
   "execution_count": 10,
   "metadata": {},
   "outputs": [
    {
     "data": {
      "text/html": [
       "<div>\n",
       "<style scoped>\n",
       "    .dataframe tbody tr th:only-of-type {\n",
       "        vertical-align: middle;\n",
       "    }\n",
       "\n",
       "    .dataframe tbody tr th {\n",
       "        vertical-align: top;\n",
       "    }\n",
       "\n",
       "    .dataframe thead th {\n",
       "        text-align: right;\n",
       "    }\n",
       "</style>\n",
       "<table border=\"1\" class=\"dataframe\">\n",
       "  <thead>\n",
       "    <tr style=\"text-align: right;\">\n",
       "      <th></th>\n",
       "      <th>TV</th>\n",
       "      <th>radio</th>\n",
       "      <th>newspaper</th>\n",
       "      <th>sales</th>\n",
       "    </tr>\n",
       "  </thead>\n",
       "  <tbody>\n",
       "    <tr>\n",
       "      <th>TV</th>\n",
       "      <td>1.000000</td>\n",
       "      <td>0.054809</td>\n",
       "      <td>0.056648</td>\n",
       "      <td>0.782224</td>\n",
       "    </tr>\n",
       "    <tr>\n",
       "      <th>radio</th>\n",
       "      <td>0.054809</td>\n",
       "      <td>1.000000</td>\n",
       "      <td>0.354104</td>\n",
       "      <td>0.576223</td>\n",
       "    </tr>\n",
       "    <tr>\n",
       "      <th>newspaper</th>\n",
       "      <td>0.056648</td>\n",
       "      <td>0.354104</td>\n",
       "      <td>1.000000</td>\n",
       "      <td>0.228299</td>\n",
       "    </tr>\n",
       "    <tr>\n",
       "      <th>sales</th>\n",
       "      <td>0.782224</td>\n",
       "      <td>0.576223</td>\n",
       "      <td>0.228299</td>\n",
       "      <td>1.000000</td>\n",
       "    </tr>\n",
       "  </tbody>\n",
       "</table>\n",
       "</div>"
      ],
      "text/plain": [
       "                 TV     radio  newspaper     sales\n",
       "TV         1.000000  0.054809   0.056648  0.782224\n",
       "radio      0.054809  1.000000   0.354104  0.576223\n",
       "newspaper  0.056648  0.354104   1.000000  0.228299\n",
       "sales      0.782224  0.576223   0.228299  1.000000"
      ]
     },
     "execution_count": 10,
     "metadata": {},
     "output_type": "execute_result"
    }
   ],
   "source": [
    "dfcorr=df.corr()\n",
    "dfcorr"
   ]
  },
  {
   "cell_type": "code",
   "execution_count": 11,
   "metadata": {},
   "outputs": [
    {
     "data": {
      "text/plain": [
       "<AxesSubplot:>"
      ]
     },
     "execution_count": 11,
     "metadata": {},
     "output_type": "execute_result"
    },
    {
     "data": {
      "image/png": "[encoded data removed]",
      "text/plain": [
       "<Figure size 432x288 with 2 Axes>"
      ]
     },
     "metadata": {
      "needs_background": "light"
     },
     "output_type": "display_data"
    }
   ],
   "source": [
    "sns.heatmap(dfcorr,cmap='BuGn_r',annot=True)"
   ]
  },
  {
   "cell_type": "markdown",
   "metadata": {},
   "source": [
    "Here, TV and sales columns are highly positively corrleated."
   ]
  },
  {
   "cell_type": "markdown",
   "metadata": {},
   "source": [
    "# EDA"
   ]
  },
  {
   "cell_type": "code",
   "execution_count": 12,
   "metadata": {},
   "outputs": [
    {
     "data": {
      "image/png": "[encoded data removed]",
      "text/plain": [
       "<Figure size 720x360 with 3 Axes>"
      ]
     },
     "metadata": {
      "needs_background": "light"
     },
     "output_type": "display_data"
    }
   ],
   "source": [
    "k=['TV','radio','newspaper']\n",
    "j=1\n",
    "plt.figure(figsize=(10,5))\n",
    "for i in k:\n",
    "    plt.subplot(2,2,j)\n",
    "    sns.distplot(df[i])\n",
    "    plt.title(i)\n",
    "    j=j+1\n",
    "plt.tight_layout()    "
   ]
  },
  {
   "cell_type": "markdown",
   "metadata": {},
   "source": [
    "Dats are normally distributed in first two columns where as there is some skewness present in newspaper column."
   ]
  },
  {
   "cell_type": "code",
   "execution_count": 13,
   "metadata": {},
   "outputs": [
    {
     "data": {
      "image/png": "[encoded data removed]",
      "text/plain": [
       "<Figure size 720x360 with 3 Axes>"
      ]
     },
     "metadata": {
      "needs_background": "light"
     },
     "output_type": "display_data"
    }
   ],
   "source": [
    "k=['TV','radio','newspaper']\n",
    "j=1\n",
    "plt.figure(figsize=(10,5))\n",
    "for i in k:\n",
    "    plt.subplot(2,2,j)\n",
    "    sns.boxplot(df[i])\n",
    "    plt.title(i)\n",
    "    j=j+1\n",
    "plt.tight_layout()    "
   ]
  },
  {
   "cell_type": "markdown",
   "metadata": {},
   "source": [
    "There are outliers present in newspaper column."
   ]
  },
  {
   "cell_type": "code",
   "execution_count": 14,
   "metadata": {},
   "outputs": [],
   "source": [
    "y=df[['sales']]"
   ]
  },
  {
   "cell_type": "code",
   "execution_count": 15,
   "metadata": {},
   "outputs": [
    {
     "data": {
      "text/plain": [
       "TV           190\n",
       "radio        167\n",
       "newspaper    172\n",
       "sales        121\n",
       "dtype: int64"
      ]
     },
     "execution_count": 15,
     "metadata": {},
     "output_type": "execute_result"
    }
   ],
   "source": [
    "df.nunique()"
   ]
  },
  {
   "cell_type": "code",
   "execution_count": 16,
   "metadata": {},
   "outputs": [],
   "source": [
    "df.drop('sales',axis=1,inplace=True)"
   ]
  },
  {
   "cell_type": "code",
   "execution_count": 17,
   "metadata": {},
   "outputs": [
    {
     "data": {
      "text/plain": [
       "TV          -0.069853\n",
       "radio        0.094175\n",
       "newspaper    0.894720\n",
       "dtype: float64"
      ]
     },
     "execution_count": 17,
     "metadata": {},
     "output_type": "execute_result"
    }
   ],
   "source": [
    "df.skew()"
   ]
  },
  {
   "cell_type": "markdown",
   "metadata": {},
   "source": [
    "There is a little bit of skewness present in newspaper column."
   ]
  },
  {
   "cell_type": "code",
   "execution_count": 18,
   "metadata": {},
   "outputs": [],
   "source": [
    "df_new=df.copy(deep=True)"
   ]
  },
  {
   "cell_type": "code",
   "execution_count": 19,
   "metadata": {},
   "outputs": [],
   "source": [
    "for col in df_new.columns:\n",
    "    percentiles = df_new[col].quantile([0.01, 0.99]).values\n",
    "    df_new[col][df_new[col] <= percentiles[0]] = percentiles[0]\n",
    "    df_new[col][df_new[col] >= percentiles[1]] = percentiles[1]"
   ]
  },
  {
   "cell_type": "code",
   "execution_count": 20,
   "metadata": {},
   "outputs": [
    {
     "data": {
      "text/plain": [
       "TV          -0.069600\n",
       "radio        0.094568\n",
       "newspaper    0.720355\n",
       "dtype: float64"
      ]
     },
     "execution_count": 20,
     "metadata": {},
     "output_type": "execute_result"
    }
   ],
   "source": [
    "df_new.skew()"
   ]
  },
  {
   "cell_type": "markdown",
   "metadata": {},
   "source": [
    "There is still some skewness present in newspaper column. Lets remove that skewness as well."
   ]
  },
  {
   "cell_type": "code",
   "execution_count": 21,
   "metadata": {},
   "outputs": [
    {
     "data": {
      "text/plain": [
       "<AxesSubplot:xlabel='newspaper', ylabel='Density'>"
      ]
     },
     "execution_count": 21,
     "metadata": {},
     "output_type": "execute_result"
    },
    {
     "data": {
      "image/png": "[encoded data removed]",
      "text/plain": [
       "<Figure size 432x288 with 1 Axes>"
      ]
     },
     "metadata": {
      "needs_background": "light"
     },
     "output_type": "display_data"
    }
   ],
   "source": [
    "# By applying cbrt transform, I have removed the skewness.\n",
    "df_new['newspaper']=np.cbrt(df_new['newspaper'])\n",
    "sns.distplot(df_new['newspaper'])"
   ]
  },
  {
   "cell_type": "code",
   "execution_count": 22,
   "metadata": {},
   "outputs": [
    {
     "data": {
      "text/plain": [
       "TV          -0.069600\n",
       "radio        0.094568\n",
       "newspaper   -0.274471\n",
       "dtype: float64"
      ]
     },
     "execution_count": 22,
     "metadata": {},
     "output_type": "execute_result"
    }
   ],
   "source": [
    "df_new.skew()"
   ]
  },
  {
   "cell_type": "markdown",
   "metadata": {},
   "source": [
    "Now, there is no skewness present in any of the three columns."
   ]
  },
  {
   "cell_type": "code",
   "execution_count": 23,
   "metadata": {},
   "outputs": [
    {
     "name": "stdout",
     "output_type": "stream",
     "text": [
      "Percentage of outlier in TV is 0.0\n",
      "Percentage of outlier in radio is 0.0\n",
      "Percentage of outlier in newspaper is 0.0\n"
     ]
    }
   ],
   "source": [
    "#outlier analysis\n",
    "for column_name in df_new.columns:\n",
    "    q1 = df_new[column_name].quantile(0.25)\n",
    "    q3 = df_new[column_name].quantile(0.75)\n",
    "    iqr = q3-q1\n",
    "    upper = q3 +1.5*iqr\n",
    "    lower = q1 -1.5*iqr\n",
    "    outliner_df = df_new.loc[(df_new[column_name] < lower)| (df_new[column_name] > upper)]\n",
    "    print('Percentage of outlier in {0} is {1}'.format(column_name, outliner_df.shape[0]/df_new.shape[0]))"
   ]
  },
  {
   "cell_type": "code",
   "execution_count": 24,
   "metadata": {},
   "outputs": [
    {
     "data": {
      "image/png": "[encoded data removed]",
      "text/plain": [
       "<Figure size 720x360 with 3 Axes>"
      ]
     },
     "metadata": {
      "needs_background": "light"
     },
     "output_type": "display_data"
    }
   ],
   "source": [
    "k=['TV','radio','newspaper']\n",
    "j=1\n",
    "plt.figure(figsize=(10,5))\n",
    "for i in k:\n",
    "    plt.subplot(2,2,j)\n",
    "    sns.distplot(df_new[i])\n",
    "    plt.title(i)\n",
    "    j=j+1\n",
    "plt.tight_layout() "
   ]
  },
  {
   "cell_type": "markdown",
   "metadata": {},
   "source": [
    "Tha datas are normally distributed in this columns."
   ]
  },
  {
   "cell_type": "code",
   "execution_count": 25,
   "metadata": {},
   "outputs": [
    {
     "data": {
      "image/png": "[encoded data removed]",
      "text/plain": [
       "<Figure size 720x360 with 3 Axes>"
      ]
     },
     "metadata": {
      "needs_background": "light"
     },
     "output_type": "display_data"
    }
   ],
   "source": [
    "k=['TV','radio','newspaper']\n",
    "j=1\n",
    "plt.figure(figsize=(10,5))\n",
    "for i in k:\n",
    "    plt.subplot(2,2,j)\n",
    "    sns.boxplot(df_new[i])\n",
    "    plt.title(i)\n",
    "    j=j+1\n",
    "plt.tight_layout() "
   ]
  },
  {
   "cell_type": "markdown",
   "metadata": {},
   "source": [
    "There are no outliers present in this columns."
   ]
  },
  {
   "cell_type": "code",
   "execution_count": 26,
   "metadata": {},
   "outputs": [
    {
     "data": {
      "text/html": [
       "<div>\n",
       "<style scoped>\n",
       "    .dataframe tbody tr th:only-of-type {\n",
       "        vertical-align: middle;\n",
       "    }\n",
       "\n",
       "    .dataframe tbody tr th {\n",
       "        vertical-align: top;\n",
       "    }\n",
       "\n",
       "    .dataframe thead th {\n",
       "        text-align: right;\n",
       "    }\n",
       "</style>\n",
       "<table border=\"1\" class=\"dataframe\">\n",
       "  <thead>\n",
       "    <tr style=\"text-align: right;\">\n",
       "      <th></th>\n",
       "      <th>TV</th>\n",
       "      <th>radio</th>\n",
       "      <th>newspaper</th>\n",
       "    </tr>\n",
       "  </thead>\n",
       "  <tbody>\n",
       "    <tr>\n",
       "      <th>0</th>\n",
       "      <td>230.1</td>\n",
       "      <td>37.8</td>\n",
       "      <td>4.105525</td>\n",
       "    </tr>\n",
       "    <tr>\n",
       "      <th>1</th>\n",
       "      <td>44.5</td>\n",
       "      <td>39.3</td>\n",
       "      <td>3.559526</td>\n",
       "    </tr>\n",
       "    <tr>\n",
       "      <th>2</th>\n",
       "      <td>17.2</td>\n",
       "      <td>45.9</td>\n",
       "      <td>4.107502</td>\n",
       "    </tr>\n",
       "    <tr>\n",
       "      <th>3</th>\n",
       "      <td>151.5</td>\n",
       "      <td>41.3</td>\n",
       "      <td>3.881968</td>\n",
       "    </tr>\n",
       "    <tr>\n",
       "      <th>4</th>\n",
       "      <td>180.8</td>\n",
       "      <td>10.8</td>\n",
       "      <td>3.879755</td>\n",
       "    </tr>\n",
       "    <tr>\n",
       "      <th>...</th>\n",
       "      <td>...</td>\n",
       "      <td>...</td>\n",
       "      <td>...</td>\n",
       "    </tr>\n",
       "    <tr>\n",
       "      <th>195</th>\n",
       "      <td>38.2</td>\n",
       "      <td>3.7</td>\n",
       "      <td>2.398610</td>\n",
       "    </tr>\n",
       "    <tr>\n",
       "      <th>196</th>\n",
       "      <td>94.2</td>\n",
       "      <td>4.9</td>\n",
       "      <td>2.008299</td>\n",
       "    </tr>\n",
       "    <tr>\n",
       "      <th>197</th>\n",
       "      <td>177.0</td>\n",
       "      <td>9.3</td>\n",
       "      <td>1.856636</td>\n",
       "    </tr>\n",
       "    <tr>\n",
       "      <th>198</th>\n",
       "      <td>283.6</td>\n",
       "      <td>42.0</td>\n",
       "      <td>4.045318</td>\n",
       "    </tr>\n",
       "    <tr>\n",
       "      <th>199</th>\n",
       "      <td>232.1</td>\n",
       "      <td>8.6</td>\n",
       "      <td>2.056710</td>\n",
       "    </tr>\n",
       "  </tbody>\n",
       "</table>\n",
       "<p>200 rows × 3 columns</p>\n",
       "</div>"
      ],
      "text/plain": [
       "        TV  radio  newspaper\n",
       "0    230.1   37.8   4.105525\n",
       "1     44.5   39.3   3.559526\n",
       "2     17.2   45.9   4.107502\n",
       "3    151.5   41.3   3.881968\n",
       "4    180.8   10.8   3.879755\n",
       "..     ...    ...        ...\n",
       "195   38.2    3.7   2.398610\n",
       "196   94.2    4.9   2.008299\n",
       "197  177.0    9.3   1.856636\n",
       "198  283.6   42.0   4.045318\n",
       "199  232.1    8.6   2.056710\n",
       "\n",
       "[200 rows x 3 columns]"
      ]
     },
     "execution_count": 26,
     "metadata": {},
     "output_type": "execute_result"
    }
   ],
   "source": [
    "df_new"
   ]
  },
  {
   "cell_type": "code",
   "execution_count": 27,
   "metadata": {},
   "outputs": [],
   "source": [
    "df_new['sales']=y['sales']"
   ]
  },
  {
   "cell_type": "code",
   "execution_count": 28,
   "metadata": {},
   "outputs": [
    {
     "data": {
      "text/html": [
       "<div>\n",
       "<style scoped>\n",
       "    .dataframe tbody tr th:only-of-type {\n",
       "        vertical-align: middle;\n",
       "    }\n",
       "\n",
       "    .dataframe tbody tr th {\n",
       "        vertical-align: top;\n",
       "    }\n",
       "\n",
       "    .dataframe thead th {\n",
       "        text-align: right;\n",
       "    }\n",
       "</style>\n",
       "<table border=\"1\" class=\"dataframe\">\n",
       "  <thead>\n",
       "    <tr style=\"text-align: right;\">\n",
       "      <th></th>\n",
       "      <th>TV</th>\n",
       "      <th>radio</th>\n",
       "      <th>newspaper</th>\n",
       "      <th>sales</th>\n",
       "    </tr>\n",
       "  </thead>\n",
       "  <tbody>\n",
       "    <tr>\n",
       "      <th>0</th>\n",
       "      <td>230.1</td>\n",
       "      <td>37.8</td>\n",
       "      <td>4.105525</td>\n",
       "      <td>22.1</td>\n",
       "    </tr>\n",
       "    <tr>\n",
       "      <th>1</th>\n",
       "      <td>44.5</td>\n",
       "      <td>39.3</td>\n",
       "      <td>3.559526</td>\n",
       "      <td>10.4</td>\n",
       "    </tr>\n",
       "    <tr>\n",
       "      <th>2</th>\n",
       "      <td>17.2</td>\n",
       "      <td>45.9</td>\n",
       "      <td>4.107502</td>\n",
       "      <td>9.3</td>\n",
       "    </tr>\n",
       "    <tr>\n",
       "      <th>3</th>\n",
       "      <td>151.5</td>\n",
       "      <td>41.3</td>\n",
       "      <td>3.881968</td>\n",
       "      <td>18.5</td>\n",
       "    </tr>\n",
       "    <tr>\n",
       "      <th>4</th>\n",
       "      <td>180.8</td>\n",
       "      <td>10.8</td>\n",
       "      <td>3.879755</td>\n",
       "      <td>12.9</td>\n",
       "    </tr>\n",
       "    <tr>\n",
       "      <th>...</th>\n",
       "      <td>...</td>\n",
       "      <td>...</td>\n",
       "      <td>...</td>\n",
       "      <td>...</td>\n",
       "    </tr>\n",
       "    <tr>\n",
       "      <th>195</th>\n",
       "      <td>38.2</td>\n",
       "      <td>3.7</td>\n",
       "      <td>2.398610</td>\n",
       "      <td>7.6</td>\n",
       "    </tr>\n",
       "    <tr>\n",
       "      <th>196</th>\n",
       "      <td>94.2</td>\n",
       "      <td>4.9</td>\n",
       "      <td>2.008299</td>\n",
       "      <td>9.7</td>\n",
       "    </tr>\n",
       "    <tr>\n",
       "      <th>197</th>\n",
       "      <td>177.0</td>\n",
       "      <td>9.3</td>\n",
       "      <td>1.856636</td>\n",
       "      <td>12.8</td>\n",
       "    </tr>\n",
       "    <tr>\n",
       "      <th>198</th>\n",
       "      <td>283.6</td>\n",
       "      <td>42.0</td>\n",
       "      <td>4.045318</td>\n",
       "      <td>25.5</td>\n",
       "    </tr>\n",
       "    <tr>\n",
       "      <th>199</th>\n",
       "      <td>232.1</td>\n",
       "      <td>8.6</td>\n",
       "      <td>2.056710</td>\n",
       "      <td>13.4</td>\n",
       "    </tr>\n",
       "  </tbody>\n",
       "</table>\n",
       "<p>200 rows × 4 columns</p>\n",
       "</div>"
      ],
      "text/plain": [
       "        TV  radio  newspaper  sales\n",
       "0    230.1   37.8   4.105525   22.1\n",
       "1     44.5   39.3   3.559526   10.4\n",
       "2     17.2   45.9   4.107502    9.3\n",
       "3    151.5   41.3   3.881968   18.5\n",
       "4    180.8   10.8   3.879755   12.9\n",
       "..     ...    ...        ...    ...\n",
       "195   38.2    3.7   2.398610    7.6\n",
       "196   94.2    4.9   2.008299    9.7\n",
       "197  177.0    9.3   1.856636   12.8\n",
       "198  283.6   42.0   4.045318   25.5\n",
       "199  232.1    8.6   2.056710   13.4\n",
       "\n",
       "[200 rows x 4 columns]"
      ]
     },
     "execution_count": 28,
     "metadata": {},
     "output_type": "execute_result"
    }
   ],
   "source": [
    "df_new"
   ]
  },
  {
   "cell_type": "code",
   "execution_count": 29,
   "metadata": {},
   "outputs": [
    {
     "data": {
      "text/plain": [
       "<AxesSubplot:xlabel='TV', ylabel='sales'>"
      ]
     },
     "execution_count": 29,
     "metadata": {},
     "output_type": "execute_result"
    },
    {
     "data": {
      "image/png": "[encoded data removed]",
      "text/plain": [
       "<Figure size 432x288 with 1 Axes>"
      ]
     },
     "metadata": {
      "needs_background": "light"
     },
     "output_type": "display_data"
    }
   ],
   "source": [
    "sns.scatterplot(df_new['TV'],df_new['sales'])"
   ]
  },
  {
   "cell_type": "markdown",
   "metadata": {},
   "source": [
    "Thses are positively correlated"
   ]
  },
  {
   "cell_type": "code",
   "execution_count": 30,
   "metadata": {},
   "outputs": [
    {
     "data": {
      "text/plain": [
       "<AxesSubplot:xlabel='radio', ylabel='TV'>"
      ]
     },
     "execution_count": 30,
     "metadata": {},
     "output_type": "execute_result"
    },
    {
     "data": {
      "image/png": "[encoded data removed]",
      "text/plain": [
       "<Figure size 432x288 with 1 Axes>"
      ]
     },
     "metadata": {
      "needs_background": "light"
     },
     "output_type": "display_data"
    }
   ],
   "source": [
    "sns.scatterplot(df_new['radio'],df_new['TV'])"
   ]
  },
  {
   "cell_type": "code",
   "execution_count": 31,
   "metadata": {},
   "outputs": [
    {
     "data": {
      "text/plain": [
       "<seaborn.axisgrid.PairGrid at 0x19d65861df0>"
      ]
     },
     "execution_count": 31,
     "metadata": {},
     "output_type": "execute_result"
    },
    {
     "data": {
      "image/png": "[encoded data removed]",
      "text/plain": [
       "<Figure size 720x720 with 20 Axes>"
      ]
     },
     "metadata": {
      "needs_background": "light"
     },
     "output_type": "display_data"
    }
   ],
   "source": [
    "sns.pairplot(df_new)"
   ]
  },
  {
   "cell_type": "code",
   "execution_count": 32,
   "metadata": {},
   "outputs": [
    {
     "data": {
      "text/html": [
       "<div>\n",
       "<style scoped>\n",
       "    .dataframe tbody tr th:only-of-type {\n",
       "        vertical-align: middle;\n",
       "    }\n",
       "\n",
       "    .dataframe tbody tr th {\n",
       "        vertical-align: top;\n",
       "    }\n",
       "\n",
       "    .dataframe thead th {\n",
       "        text-align: right;\n",
       "    }\n",
       "</style>\n",
       "<table border=\"1\" class=\"dataframe\">\n",
       "  <thead>\n",
       "    <tr style=\"text-align: right;\">\n",
       "      <th></th>\n",
       "      <th>TV</th>\n",
       "      <th>radio</th>\n",
       "      <th>newspaper</th>\n",
       "      <th>sales</th>\n",
       "    </tr>\n",
       "  </thead>\n",
       "  <tbody>\n",
       "    <tr>\n",
       "      <th>0</th>\n",
       "      <td>230.1</td>\n",
       "      <td>37.8</td>\n",
       "      <td>4.105525</td>\n",
       "      <td>22.1</td>\n",
       "    </tr>\n",
       "    <tr>\n",
       "      <th>1</th>\n",
       "      <td>44.5</td>\n",
       "      <td>39.3</td>\n",
       "      <td>3.559526</td>\n",
       "      <td>10.4</td>\n",
       "    </tr>\n",
       "    <tr>\n",
       "      <th>2</th>\n",
       "      <td>17.2</td>\n",
       "      <td>45.9</td>\n",
       "      <td>4.107502</td>\n",
       "      <td>9.3</td>\n",
       "    </tr>\n",
       "    <tr>\n",
       "      <th>3</th>\n",
       "      <td>151.5</td>\n",
       "      <td>41.3</td>\n",
       "      <td>3.881968</td>\n",
       "      <td>18.5</td>\n",
       "    </tr>\n",
       "    <tr>\n",
       "      <th>4</th>\n",
       "      <td>180.8</td>\n",
       "      <td>10.8</td>\n",
       "      <td>3.879755</td>\n",
       "      <td>12.9</td>\n",
       "    </tr>\n",
       "    <tr>\n",
       "      <th>...</th>\n",
       "      <td>...</td>\n",
       "      <td>...</td>\n",
       "      <td>...</td>\n",
       "      <td>...</td>\n",
       "    </tr>\n",
       "    <tr>\n",
       "      <th>195</th>\n",
       "      <td>38.2</td>\n",
       "      <td>3.7</td>\n",
       "      <td>2.398610</td>\n",
       "      <td>7.6</td>\n",
       "    </tr>\n",
       "    <tr>\n",
       "      <th>196</th>\n",
       "      <td>94.2</td>\n",
       "      <td>4.9</td>\n",
       "      <td>2.008299</td>\n",
       "      <td>9.7</td>\n",
       "    </tr>\n",
       "    <tr>\n",
       "      <th>197</th>\n",
       "      <td>177.0</td>\n",
       "      <td>9.3</td>\n",
       "      <td>1.856636</td>\n",
       "      <td>12.8</td>\n",
       "    </tr>\n",
       "    <tr>\n",
       "      <th>198</th>\n",
       "      <td>283.6</td>\n",
       "      <td>42.0</td>\n",
       "      <td>4.045318</td>\n",
       "      <td>25.5</td>\n",
       "    </tr>\n",
       "    <tr>\n",
       "      <th>199</th>\n",
       "      <td>232.1</td>\n",
       "      <td>8.6</td>\n",
       "      <td>2.056710</td>\n",
       "      <td>13.4</td>\n",
       "    </tr>\n",
       "  </tbody>\n",
       "</table>\n",
       "<p>200 rows × 4 columns</p>\n",
       "</div>"
      ],
      "text/plain": [
       "        TV  radio  newspaper  sales\n",
       "0    230.1   37.8   4.105525   22.1\n",
       "1     44.5   39.3   3.559526   10.4\n",
       "2     17.2   45.9   4.107502    9.3\n",
       "3    151.5   41.3   3.881968   18.5\n",
       "4    180.8   10.8   3.879755   12.9\n",
       "..     ...    ...        ...    ...\n",
       "195   38.2    3.7   2.398610    7.6\n",
       "196   94.2    4.9   2.008299    9.7\n",
       "197  177.0    9.3   1.856636   12.8\n",
       "198  283.6   42.0   4.045318   25.5\n",
       "199  232.1    8.6   2.056710   13.4\n",
       "\n",
       "[200 rows x 4 columns]"
      ]
     },
     "execution_count": 32,
     "metadata": {},
     "output_type": "execute_result"
    }
   ],
   "source": [
    "df1=df_new\n",
    "df1"
   ]
  },
  {
   "cell_type": "code",
   "execution_count": 33,
   "metadata": {},
   "outputs": [
    {
     "data": {
      "text/plain": [
       "array([[9.70724505e-01, 9.81796134e-01, 1.47877114e+00, 1.55205313e+00],\n",
       "       [1.19868660e+00, 1.08312010e+00, 7.97975487e-01, 6.96046111e-01],\n",
       "       [1.51778640e+00, 1.52894555e+00, 1.48123580e+00, 9.07405869e-01],\n",
       "       [5.19976048e-02, 1.21821872e+00, 1.20002223e+00, 8.60330287e-01],\n",
       "       [3.94474681e-01, 8.42035259e-01, 1.19726263e+00, 2.15683025e-01],\n",
       "       [1.61713982e+00, 1.73159348e+00, 1.61797088e+00, 1.31091086e+00],\n",
       "       [1.04673431e+00, 6.44049580e-01, 6.88548767e-02, 4.27042783e-01],\n",
       "       [3.13856746e-01, 2.47601323e-01, 8.17762505e-01, 1.58039455e-01],\n",
       "       [1.61830868e+00, 1.42971426e+00, 2.39344905e+00, 1.77205942e+00],\n",
       "       [6.16558791e-01, 1.39593961e+00, 1.89393548e-01, 6.57617064e-01],\n",
       "       [9.46212029e-01, 1.17978181e+00, 3.37398069e-02, 1.04190753e+00],\n",
       "       [7.90719489e-01, 4.96156443e-02, 1.66102982e+00, 6.48970529e-01],\n",
       "       [1.44064139e+00, 7.99412995e-01, 1.39606924e+00, 9.26620392e-01],\n",
       "       [5.79188815e-01, 1.05819305e+00, 1.23262928e+00, 8.30547775e-01],\n",
       "       [6.66819932e-01, 6.50804511e-01, 8.27304348e-01, 9.56402904e-01],\n",
       "       [5.65128787e-01, 1.65053431e+00, 1.04036384e+00, 1.60969670e+00],\n",
       "       [9.26341346e-01, 9.00736961e-01, 1.93739311e+00, 2.92541119e-01],\n",
       "       [1.57035160e+00, 1.10338489e+00, 1.12437932e+00, 1.99398717e+00],\n",
       "       [9.09977254e-01, 1.86806944e-01, 3.54523096e-01, 5.23115400e-01],\n",
       "       [2.90532771e-03, 4.28607132e-02, 3.07323732e-01, 1.10963873e-01],\n",
       "       [8.33967447e-01, 2.99548094e-01, 1.05506461e+00, 7.64257669e-01],\n",
       "       [1.05605156e+00, 1.22706633e+00, 6.88548767e-02, 2.92541119e-01],\n",
       "       [1.56454095e+00, 4.97533773e-01, 9.40936643e-01, 1.61834324e+00],\n",
       "       [9.49684957e-01, 4.29984463e-01, 6.29973806e-02, 2.83894584e-01],\n",
       "       [9.90628852e-01, 7.20446499e-01, 3.54523096e-01, 8.30547775e-01],\n",
       "       [1.35411181e+00, 1.33514523e+00, 2.84217231e-01, 3.88613736e-01],\n",
       "       [4.85246769e-02, 4.07626992e-01, 7.38879350e-01, 1.87821967e-01],\n",
       "       [1.08761088e+00, 4.43494325e-01, 9.95128287e-02, 3.60752677e-01],\n",
       "       [1.18930202e+00, 2.59018508e-01, 9.95128287e-02, 9.37188380e-01],\n",
       "       [8.93613161e-01, 4.90778842e-01, 6.52184109e-01, 6.76831588e-01],\n",
       "       [1.70477093e+00, 3.40077681e-01, 7.34752627e-01, 1.41755147e+00],\n",
       "       [3.99183799e-01, 3.96209807e-01, 5.73601242e-01, 4.07828260e-01],\n",
       "       [5.82695406e-01, 1.47024385e+00, 2.34019194e-01, 8.49762299e-01],\n",
       "       [1.38567113e+00, 2.20581599e-01, 2.39386481e+00, 6.48970529e-01],\n",
       "       [6.00228362e-01, 1.47699878e+00, 1.21053905e+00, 8.68976822e-01],\n",
       "       [1.67905593e+00, 1.29461564e+00, 1.09566092e+00, 2.34897549e-01],\n",
       "       [1.40086636e+00, 1.38709200e+00, 1.50819351e+00, 2.18613240e+00],\n",
       "       [8.45689748e-01, 1.76536814e+00, 8.17570909e-01, 1.30178396e-01],\n",
       "       [1.21505069e+00, 2.31998784e-01, 4.42181174e-01, 7.53689682e-01],\n",
       "       [9.46178366e-01, 9.75041203e-01, 3.18270444e-01, 1.43676599e+00],\n",
       "       [6.48118112e-01, 6.52181841e-02, 3.01707069e-01, 4.95254341e-01],\n",
       "       [3.50057859e-01, 6.84579166e-01, 5.77237078e-01, 5.91326959e-01],\n",
       "       [1.70485275e+00, 2.99548094e-01, 2.12357362e+00, 1.28304980e+00],\n",
       "       [6.99548117e-01, 1.00415360e+00, 7.23967292e-02, 2.15683025e-01],\n",
       "       [1.42544616e+00, 1.64449473e-01, 7.38125861e-01, 1.06112206e+00],\n",
       "       [3.27849448e-01, 5.17083219e-02, 2.97544407e-01, 1.68607443e-01],\n",
       "       [6.70360187e-01, 9.02829638e-01, 4.65312043e-01, 6.57617064e-01],\n",
       "       [1.08527315e+00, 1.23172858e+00, 3.42596288e-01, 1.76341289e+00],\n",
       "       [9.36827456e-01, 5.04288705e-01, 9.50154508e-01, 1.49392920e-01],\n",
       "       [9.36861120e-01, 7.81240879e-01, 5.07054335e-01, 8.30547775e-01],\n",
       "       [6.16558791e-01, 1.36216495e+00, 4.22703247e-01, 5.03900877e-01],\n",
       "       [5.45291767e-01, 9.23094432e-01, 1.72933669e+00, 6.38402541e-01],\n",
       "       [8.10590172e-01, 1.24523845e+00, 6.09681177e-01, 1.64812575e+00],\n",
       "       [4.15514228e-01, 1.54921034e+00, 1.20553203e+00, 1.37912242e+00],\n",
       "       [1.35177408e+00, 3.73852336e-01, 5.04946161e-01, 1.18697718e+00],\n",
       "       [6.06039018e-01, 1.76536814e+00, 1.24104413e+00, 1.85948550e+00],\n",
       "       [1.63350391e+00, 3.26567819e-01, 6.73123534e-01, 1.63755776e+00],\n",
       "       [1.26838547e-01, 2.74621048e-01, 4.59593420e-01, 1.58039455e-01],\n",
       "       [7.45133803e-01, 1.76536814e+00, 5.40592592e-01, 1.87870003e+00],\n",
       "       [7.43964939e-01, 4.21136854e-01, 1.01820945e+00, 8.41115763e-01],\n",
       "       [1.09348886e+00, 1.43646919e+00, 1.78575494e-01, 1.13798015e+00],\n",
       "       [1.33540999e+00, 1.31278776e+00, 1.09286198e+00, 1.95555812e+00],\n",
       "       [1.07825997e+00, 5.24553498e-01, 1.14116253e-01, 3.22323631e-01],\n",
       "       [5.18407900e-01, 4.27891785e-01, 1.10567940e+00, 4.32326777e-03],\n",
       "       [1.86450598e-01, 1.31954269e+00, 1.86075190e-01, 7.64257669e-01],\n",
       "       [9.12314981e-01, 9.43359225e-01, 2.39386481e+00, 9.07405869e-01],\n",
       "       [1.35063888e+00, 9.01452308e-02, 2.01864727e+00, 8.68976822e-01],\n",
       "       [9.06037715e-02, 5.92102809e-01, 9.36215588e-01, 1.19610408e-01],\n",
       "       [1.05605156e+00, 2.86038232e-01, 8.67291489e-01, 9.37188380e-01],\n",
       "       [8.15265627e-01, 1.39384693e+00, 1.09526460e-01, 1.59048218e+00],\n",
       "       [6.08376745e-01, 4.95441096e-01, 5.77237078e-01, 8.21901240e-01],\n",
       "       [4.35418575e-01, 6.05612671e-01, 3.05860957e-01, 3.11755643e-01],\n",
       "       [1.40557548e+00, 6.57559442e-01, 2.95730573e-01, 1.00347849e+00],\n",
       "       [2.06321282e-01, 1.18653674e+00, 2.89192581e-01, 5.80758971e-01],\n",
       "       [7.75524260e-01, 9.01452308e-02, 7.00997127e-01, 5.72112435e-01],\n",
       "       [1.52129299e+00, 1.38033707e+00, 1.93500351e+00, 1.02269301e+00],\n",
       "       [1.39739343e+00, 1.46348892e+00, 2.16739678e-01, 1.36855443e+00],\n",
       "       [3.10350155e-01, 3.53587543e-01, 6.20926726e-01, 3.41057791e-02],\n",
       "       [1.65571232e+00, 4.48156578e-01, 1.00884465e+00, 1.67598681e+00],\n",
       "       [3.62949023e-01, 1.05143812e+00, 8.92346368e-02, 5.80758971e-01],\n",
       "       [8.25819064e-01, 2.31998784e-01, 1.30711078e-01, 4.27042783e-01],\n",
       "       [1.08410429e+00, 1.29461564e+00, 5.10807626e-01, 3.30970166e-01],\n",
       "       [8.38676565e-01, 2.00316806e-01, 3.38781694e-01, 5.23115400e-01],\n",
       "       [9.19328163e-01, 1.43437652e+00, 4.61474992e-01, 8.11813615e-02],\n",
       "       [7.76693124e-01, 1.33305255e+00, 3.91144433e-01, 1.47519504e+00],\n",
       "       [5.39413785e-01, 3.28660496e-01, 1.39096909e+00, 2.26251013e-01],\n",
       "       [8.26987928e-01, 2.86038232e-01, 4.98386762e-01, 3.88613736e-01],\n",
       "       [4.24898801e-01, 1.17093420e+00, 1.32632550e+00, 3.79967201e-01],\n",
       "       [6.86724279e-01, 1.50939611e-01, 1.58030942e+00, 2.15683025e-01],\n",
       "       [4.35418575e-01, 1.65728924e+00, 9.95698003e-01, 5.14468865e-01],\n",
       "       [1.49046959e-01, 1.24057619e+00, 1.01820945e+00, 5.42329924e-01],\n",
       "       [1.38453593e+00, 1.47024385e+00, 3.59083636e-01, 1.29169634e+00],\n",
       "       [8.25785401e-01, 6.91334097e-01, 1.21377331e+00, 1.03326100e+00],\n",
       "       [1.21384816e+00, 8.93982030e-01, 1.55409856e+00, 1.57126765e+00],\n",
       "       [4.63471305e-01, 6.25877464e-01, 8.75720230e-01, 4.84686354e-01],\n",
       "       [1.89923526e-01, 5.62990407e-01, 1.04036384e+00, 5.52897912e-01],\n",
       "       [5.90843789e-01, 1.33514523e+00, 1.38725487e+00, 4.46257307e-01],\n",
       "       [4.42398094e-01, 1.53032288e-01, 1.46520387e-01, 2.83894584e-01],\n",
       "       [1.66736729e+00, 1.28576803e+00, 9.89677181e-01, 2.18613240e+00],\n",
       "       [1.38527185e-01, 1.24523845e+00, 8.24064583e-01, 6.10541482e-01],\n",
       "       [8.80721997e-01, 1.28110578e+00, 9.47086001e-01, 4.46257307e-01],\n",
       "       [1.70485275e+00, 8.80472168e-01, 1.93739311e+00, 1.87870003e+00],\n",
       "       [1.55632524e+00, 8.89319776e-01, 1.78575494e-01, 1.49392920e-01],\n",
       "       [4.77464006e-01, 4.09719669e-01, 3.78639980e-01, 1.30178396e-01],\n",
       "       [1.06540247e+00, 7.45373546e-01, 1.46637629e+00, 1.28304980e+00],\n",
       "       [1.06967864e-01, 1.56272021e+00, 1.21377331e+00, 9.94831951e-01],\n",
       "       [1.42661503e+00, 8.28525397e-01, 2.21061408e-01, 1.31091086e+00],\n",
       "       [6.62178141e-01, 1.54461564e+00, 8.41177775e-02, 1.02269301e+00],\n",
       "       [1.56570981e+00, 1.54454809e+00, 3.45091181e-02, 1.67598681e+00],\n",
       "       [1.26644703e+00, 2.45508646e-01, 1.43936789e+00, 1.11011909e+00],\n",
       "       [9.20463364e-01, 1.01766347e+00, 1.14422069e+00, 1.19610408e-01],\n",
       "       [1.10631270e+00, 9.95305996e-01, 8.41177775e-02, 1.49440956e+00],\n",
       "       [3.34862630e-01, 5.31308429e-01, 1.97092358e+00, 1.48912557e-02],\n",
       "       [7.31107438e-01, 1.80052013e-01, 8.92733644e-01, 3.60752677e-01],\n",
       "       [8.04779517e-01, 1.58973993e+00, 4.18785180e-01, 1.10963873e-01],\n",
       "       [8.41014293e-01, 7.92658063e-01, 1.03445759e+00, 2.73326596e-01],\n",
       "       [9.17726353e-02, 6.05612671e-01, 3.45091181e-02, 3.50184689e-01],\n",
       "       [8.25819064e-01, 1.51752837e+00, 5.78985211e-01, 8.88191346e-01],\n",
       "       [2.49569240e-01, 9.21001754e-01, 1.71434857e+00, 3.60752677e-01],\n",
       "       [1.49207140e+00, 4.90778842e-01, 1.30711078e-01, 1.42619800e+00],\n",
       "       [6.72264967e-02, 2.38753715e-01, 8.33769819e-01, 2.83894584e-01],\n",
       "       [1.49908458e+00, 1.05747771e-01, 9.65435861e-01, 1.34933991e+00],\n",
       "       [8.99423817e-01, 1.40944947e+00, 5.24790895e-01, 4.65471830e-01],\n",
       "       [2.79959697e-01, 7.65638339e-01, 7.54312891e-01, 2.26251013e-01],\n",
       "       [9.63711322e-01, 6.10274924e-01, 1.59920783e+00, 1.09090457e+00],\n",
       "       [6.99581780e-01, 7.74485948e-01, 4.88082474e-02, 6.57617064e-01],\n",
       "       [1.62765959e+00, 1.05610038e+00, 9.71520103e-01, 1.42619800e+00],\n",
       "       [7.81402242e-01, 1.54461564e+00, 1.02764162e+00, 1.00347849e+00],\n",
       "       [8.56175858e-01, 1.73834842e+00, 1.80291048e+00, 2.05163074e+00],\n",
       "       [1.02218817e+00, 7.60976086e-01, 7.31374183e-01, 8.30547775e-01],\n",
       "       [1.65586427e+00, 1.10338489e+00, 1.07585725e+00, 2.38692417e+00],\n",
       "       [1.38099568e+00, 1.37567481e+00, 7.27990510e-01, 2.54112072e-01],\n",
       "       [1.62064641e+00, 2.65773439e-01, 2.04360021e+00, 1.59912871e+00],\n",
       "       [8.50331539e-01, 6.91334097e-01, 7.97975487e-01, 1.07169004e+00],\n",
       "       [1.28752024e+00, 1.03583558e+00, 1.38841513e+00, 6.19188018e-01],\n",
       "       [1.15426978e+00, 1.60324979e+00, 1.09566092e+00, 4.65471830e-01],\n",
       "       [1.41960184e+00, 1.06285531e+00, 1.01820945e+00, 8.68976822e-01],\n",
       "       [1.48034910e+00, 3.80607267e-01, 1.23289490e+00, 1.30226433e+00],\n",
       "       [1.21621955e+00, 1.77959335e-01, 2.27801436e-01, 8.49762299e-01],\n",
       "       [4.42398094e-01, 1.39384693e+00, 2.15219853e+00, 1.28304980e+00],\n",
       "       [8.60884976e-01, 4.23229532e-01, 7.16032341e-01, 5.99973494e-01],\n",
       "       [5.45258103e-01, 8.19677788e-01, 1.63195579e+00, 9.94831951e-01],\n",
       "       [8.58513586e-01, 6.71069304e-01, 5.47972877e-01, 1.16776266e+00],\n",
       "       [4.96199489e-01, 1.18653674e+00, 4.14859534e-01, 6.96046111e-01],\n",
       "       [5.94384044e-01, 5.71838015e-01, 5.84490002e-01, 5.03900877e-01],\n",
       "       [7.89151341e-02, 1.44322413e+00, 1.04671302e+00, 7.15260635e-01],\n",
       "       [1.08761088e+00, 1.07845785e+00, 1.07585725e+00, 1.58039455e-01],\n",
       "       [1.12384565e+00, 1.73834842e+00, 7.71576019e-01, 2.18613240e+00],\n",
       "       [1.27466274e+00, 1.15066941e+00, 7.93636826e-01, 5.99973494e-01],\n",
       "       [1.19634887e+00, 1.71204404e-01, 2.22261607e-01, 7.53689682e-01],\n",
       "       [1.56216956e+00, 6.32632395e-01, 5.14554142e-01, 3.99181724e-01],\n",
       "       [3.04505836e-01, 1.00415360e+00, 9.13058061e-01, 4.65471830e-01],\n",
       "       [5.90843789e-01, 2.33112672e-03, 6.20926726e-01, 4.95254341e-01],\n",
       "       [2.83432625e-01, 1.11013982e+00, 5.40592592e-01, 9.56402904e-01],\n",
       "       [4.76295143e-01, 1.46277357e-01, 9.99546039e-01, 3.03109107e-01],\n",
       "       [1.65586427e+00, 7.87995810e-01, 1.41300656e+00, 2.07949180e+00],\n",
       "       [6.21267910e-01, 1.36682721e+00, 9.68479990e-01, 2.45465537e-01],\n",
       "       [3.21269212e-02, 1.48375371e+00, 2.87788787e-02, 7.53689682e-01],\n",
       "       [1.58207390e+00, 9.21001754e-01, 8.01253409e-01, 1.29169634e+00],\n",
       "       [1.79437416e-01, 3.28660496e-01, 4.22703247e-01, 2.15683025e-01],\n",
       "       [2.97458990e-01, 3.48925290e-01, 2.63921640e-01, 7.25348259e-02],\n",
       "       [7.17114736e-01, 8.46697512e-01, 9.31681533e-01, 1.38824932e-01],\n",
       "       [4.83308325e-01, 3.48925290e-01, 3.45091181e-02, 1.68607443e-01],\n",
       "       [1.92261254e-01, 9.14246823e-01, 1.21053905e+00, 7.64257669e-01],\n",
       "       [3.48922658e-01, 5.78592946e-01, 1.45278873e+00, 4.07828260e-01],\n",
       "       [1.02215451e+00, 1.34190016e+00, 1.83769020e+00, 4.07828260e-01],\n",
       "       [1.50960435e+00, 9.68286272e-01, 1.67824635e-01, 1.15719467e+00],\n",
       "       [6.98379253e-01, 1.22031140e+00, 2.89964011e-01, 3.50184689e-01],\n",
       "       [7.98901535e-01, 2.25959200e-02, 1.17507152e+00, 5.91326959e-01],\n",
       "       [1.60424865e+00, 8.55545121e-01, 1.32532645e+00, 1.87821967e-01],\n",
       "       [1.13439909e+00, 7.87995810e-01, 3.48548889e-01, 1.08033658e+00],\n",
       "       [2.03949891e-01, 1.59787219e-01, 8.72175989e-01, 9.17493494e-02],\n",
       "       [1.48973367e+00, 2.13826668e-01, 4.34247836e-01, 1.23405277e+00],\n",
       "       [2.49535577e-01, 1.09196771e+00, 7.23608276e-01, 4.46257307e-01],\n",
       "       [8.80721997e-01, 1.34190016e+00, 7.00997127e-01, 4.84686354e-01],\n",
       "       [1.51775274e+00, 1.73159348e+00, 6.86970993e-01, 2.49356478e+00],\n",
       "       [1.18462657e+00, 4.68421371e-01, 2.38935377e-01, 1.18697718e+00],\n",
       "       [2.70575124e-01, 1.04468319e+00, 4.46054526e-01, 4.46257307e-01],\n",
       "       [1.51541501e+00, 1.41620440e+00, 5.87516399e-02, 4.27042783e-01],\n",
       "       [2.16807392e-01, 8.96074707e-01, 3.96964469e-01, 2.73326596e-01],\n",
       "       [1.11609656e-01, 1.39593961e+00, 1.11577772e+00, 6.76831588e-01],\n",
       "       [8.35136311e-01, 1.20680154e+00, 1.18694850e-01, 3.50184689e-01],\n",
       "       [1.06192954e+00, 1.18653674e+00, 2.21061408e-01, 1.02269301e+00],\n",
       "       [1.64282116e+00, 1.33305255e+00, 1.54209660e+00, 2.33984859e+00],\n",
       "       [1.24774521e+00, 1.32767495e-01, 2.34019194e-01, 6.87399576e-01],\n",
       "       [6.77339706e-01, 1.47490610e+00, 2.78490065e-01, 1.64812575e+00],\n",
       "       [8.82660440e-02, 1.42971426e+00, 8.17487254e-02, 7.15260635e-01],\n",
       "       [5.14867646e-01, 3.67097405e-01, 3.60519108e-01, 6.29756005e-01],\n",
       "       [1.62411934e+00, 6.32632395e-01, 1.71180366e+00, 3.60752677e-01],\n",
       "       [1.50025344e+00, 7.54221155e-01, 7.39280017e-02, 1.40698348e+00],\n",
       "       [1.25712978e+00, 1.20470886e+00, 1.40005671e+00, 6.19188018e-01],\n",
       "       [8.36338838e-01, 8.42035259e-01, 1.37459688e+00, 7.92118728e-01],\n",
       "       [1.51778640e+00, 1.29461564e+00, 3.01707069e-01, 1.56069967e+00],\n",
       "       [2.30833757e-01, 1.26550324e+00, 1.72933669e+00, 1.07169004e+00],\n",
       "       [3.09580575e-02, 8.33187650e-01, 1.37459688e+00, 6.29756005e-01],\n",
       "       [1.27232501e+00, 1.32163537e+00, 6.49548385e-01, 1.23405277e+00],\n",
       "       [6.17761318e-01, 1.24057619e+00, 1.13622034e+00, 8.30547775e-01],\n",
       "       [3.50057859e-01, 9.43359225e-01, 1.32532645e+00, 2.34897549e-01],\n",
       "       [1.59606661e+00, 1.26550324e+00, 1.40370016e+00, 2.20534693e+00],\n",
       "       [9.94101780e-01, 9.90643743e-01, 1.07585725e+00, 1.19610408e-01]])"
      ]
     },
     "execution_count": 33,
     "metadata": {},
     "output_type": "execute_result"
    }
   ],
   "source": [
    "from scipy.stats import zscore\n",
    "z=np.abs(zscore(df1))\n",
    "z"
   ]
  },
  {
   "cell_type": "code",
   "execution_count": 34,
   "metadata": {},
   "outputs": [
    {
     "name": "stdout",
     "output_type": "stream",
     "text": [
      "(array([], dtype=int64), array([], dtype=int64))\n"
     ]
    }
   ],
   "source": [
    "print(np.where(z>3))"
   ]
  },
  {
   "cell_type": "code",
   "execution_count": 35,
   "metadata": {},
   "outputs": [
    {
     "data": {
      "text/html": [
       "<div>\n",
       "<style scoped>\n",
       "    .dataframe tbody tr th:only-of-type {\n",
       "        vertical-align: middle;\n",
       "    }\n",
       "\n",
       "    .dataframe tbody tr th {\n",
       "        vertical-align: top;\n",
       "    }\n",
       "\n",
       "    .dataframe thead th {\n",
       "        text-align: right;\n",
       "    }\n",
       "</style>\n",
       "<table border=\"1\" class=\"dataframe\">\n",
       "  <thead>\n",
       "    <tr style=\"text-align: right;\">\n",
       "      <th></th>\n",
       "      <th>TV</th>\n",
       "      <th>radio</th>\n",
       "      <th>newspaper</th>\n",
       "      <th>sales</th>\n",
       "    </tr>\n",
       "  </thead>\n",
       "  <tbody>\n",
       "    <tr>\n",
       "      <th>0</th>\n",
       "      <td>230.1</td>\n",
       "      <td>37.8</td>\n",
       "      <td>4.105525</td>\n",
       "      <td>22.1</td>\n",
       "    </tr>\n",
       "    <tr>\n",
       "      <th>1</th>\n",
       "      <td>44.5</td>\n",
       "      <td>39.3</td>\n",
       "      <td>3.559526</td>\n",
       "      <td>10.4</td>\n",
       "    </tr>\n",
       "    <tr>\n",
       "      <th>2</th>\n",
       "      <td>17.2</td>\n",
       "      <td>45.9</td>\n",
       "      <td>4.107502</td>\n",
       "      <td>9.3</td>\n",
       "    </tr>\n",
       "    <tr>\n",
       "      <th>3</th>\n",
       "      <td>151.5</td>\n",
       "      <td>41.3</td>\n",
       "      <td>3.881968</td>\n",
       "      <td>18.5</td>\n",
       "    </tr>\n",
       "    <tr>\n",
       "      <th>4</th>\n",
       "      <td>180.8</td>\n",
       "      <td>10.8</td>\n",
       "      <td>3.879755</td>\n",
       "      <td>12.9</td>\n",
       "    </tr>\n",
       "    <tr>\n",
       "      <th>...</th>\n",
       "      <td>...</td>\n",
       "      <td>...</td>\n",
       "      <td>...</td>\n",
       "      <td>...</td>\n",
       "    </tr>\n",
       "    <tr>\n",
       "      <th>195</th>\n",
       "      <td>38.2</td>\n",
       "      <td>3.7</td>\n",
       "      <td>2.398610</td>\n",
       "      <td>7.6</td>\n",
       "    </tr>\n",
       "    <tr>\n",
       "      <th>196</th>\n",
       "      <td>94.2</td>\n",
       "      <td>4.9</td>\n",
       "      <td>2.008299</td>\n",
       "      <td>9.7</td>\n",
       "    </tr>\n",
       "    <tr>\n",
       "      <th>197</th>\n",
       "      <td>177.0</td>\n",
       "      <td>9.3</td>\n",
       "      <td>1.856636</td>\n",
       "      <td>12.8</td>\n",
       "    </tr>\n",
       "    <tr>\n",
       "      <th>198</th>\n",
       "      <td>283.6</td>\n",
       "      <td>42.0</td>\n",
       "      <td>4.045318</td>\n",
       "      <td>25.5</td>\n",
       "    </tr>\n",
       "    <tr>\n",
       "      <th>199</th>\n",
       "      <td>232.1</td>\n",
       "      <td>8.6</td>\n",
       "      <td>2.056710</td>\n",
       "      <td>13.4</td>\n",
       "    </tr>\n",
       "  </tbody>\n",
       "</table>\n",
       "<p>200 rows × 4 columns</p>\n",
       "</div>"
      ],
      "text/plain": [
       "        TV  radio  newspaper  sales\n",
       "0    230.1   37.8   4.105525   22.1\n",
       "1     44.5   39.3   3.559526   10.4\n",
       "2     17.2   45.9   4.107502    9.3\n",
       "3    151.5   41.3   3.881968   18.5\n",
       "4    180.8   10.8   3.879755   12.9\n",
       "..     ...    ...        ...    ...\n",
       "195   38.2    3.7   2.398610    7.6\n",
       "196   94.2    4.9   2.008299    9.7\n",
       "197  177.0    9.3   1.856636   12.8\n",
       "198  283.6   42.0   4.045318   25.5\n",
       "199  232.1    8.6   2.056710   13.4\n",
       "\n",
       "[200 rows x 4 columns]"
      ]
     },
     "execution_count": 35,
     "metadata": {},
     "output_type": "execute_result"
    }
   ],
   "source": [
    "df2=df1[(z<3).all(axis=1)]\n",
    "df2"
   ]
  },
  {
   "cell_type": "markdown",
   "metadata": {},
   "source": [
    "There are no outliers present in the columns."
   ]
  },
  {
   "cell_type": "code",
   "execution_count": 36,
   "metadata": {},
   "outputs": [],
   "source": [
    "x=df1.iloc[:,0:3]\n",
    "y=df1.iloc[:,3]"
   ]
  },
  {
   "cell_type": "code",
   "execution_count": 37,
   "metadata": {},
   "outputs": [
    {
     "data": {
      "text/html": [
       "<div>\n",
       "<style scoped>\n",
       "    .dataframe tbody tr th:only-of-type {\n",
       "        vertical-align: middle;\n",
       "    }\n",
       "\n",
       "    .dataframe tbody tr th {\n",
       "        vertical-align: top;\n",
       "    }\n",
       "\n",
       "    .dataframe thead th {\n",
       "        text-align: right;\n",
       "    }\n",
       "</style>\n",
       "<table border=\"1\" class=\"dataframe\">\n",
       "  <thead>\n",
       "    <tr style=\"text-align: right;\">\n",
       "      <th></th>\n",
       "      <th>TV</th>\n",
       "      <th>radio</th>\n",
       "      <th>newspaper</th>\n",
       "    </tr>\n",
       "  </thead>\n",
       "  <tbody>\n",
       "    <tr>\n",
       "      <th>0</th>\n",
       "      <td>230.1</td>\n",
       "      <td>37.8</td>\n",
       "      <td>4.105525</td>\n",
       "    </tr>\n",
       "    <tr>\n",
       "      <th>1</th>\n",
       "      <td>44.5</td>\n",
       "      <td>39.3</td>\n",
       "      <td>3.559526</td>\n",
       "    </tr>\n",
       "    <tr>\n",
       "      <th>2</th>\n",
       "      <td>17.2</td>\n",
       "      <td>45.9</td>\n",
       "      <td>4.107502</td>\n",
       "    </tr>\n",
       "    <tr>\n",
       "      <th>3</th>\n",
       "      <td>151.5</td>\n",
       "      <td>41.3</td>\n",
       "      <td>3.881968</td>\n",
       "    </tr>\n",
       "    <tr>\n",
       "      <th>4</th>\n",
       "      <td>180.8</td>\n",
       "      <td>10.8</td>\n",
       "      <td>3.879755</td>\n",
       "    </tr>\n",
       "    <tr>\n",
       "      <th>...</th>\n",
       "      <td>...</td>\n",
       "      <td>...</td>\n",
       "      <td>...</td>\n",
       "    </tr>\n",
       "    <tr>\n",
       "      <th>195</th>\n",
       "      <td>38.2</td>\n",
       "      <td>3.7</td>\n",
       "      <td>2.398610</td>\n",
       "    </tr>\n",
       "    <tr>\n",
       "      <th>196</th>\n",
       "      <td>94.2</td>\n",
       "      <td>4.9</td>\n",
       "      <td>2.008299</td>\n",
       "    </tr>\n",
       "    <tr>\n",
       "      <th>197</th>\n",
       "      <td>177.0</td>\n",
       "      <td>9.3</td>\n",
       "      <td>1.856636</td>\n",
       "    </tr>\n",
       "    <tr>\n",
       "      <th>198</th>\n",
       "      <td>283.6</td>\n",
       "      <td>42.0</td>\n",
       "      <td>4.045318</td>\n",
       "    </tr>\n",
       "    <tr>\n",
       "      <th>199</th>\n",
       "      <td>232.1</td>\n",
       "      <td>8.6</td>\n",
       "      <td>2.056710</td>\n",
       "    </tr>\n",
       "  </tbody>\n",
       "</table>\n",
       "<p>200 rows × 3 columns</p>\n",
       "</div>"
      ],
      "text/plain": [
       "        TV  radio  newspaper\n",
       "0    230.1   37.8   4.105525\n",
       "1     44.5   39.3   3.559526\n",
       "2     17.2   45.9   4.107502\n",
       "3    151.5   41.3   3.881968\n",
       "4    180.8   10.8   3.879755\n",
       "..     ...    ...        ...\n",
       "195   38.2    3.7   2.398610\n",
       "196   94.2    4.9   2.008299\n",
       "197  177.0    9.3   1.856636\n",
       "198  283.6   42.0   4.045318\n",
       "199  232.1    8.6   2.056710\n",
       "\n",
       "[200 rows x 3 columns]"
      ]
     },
     "execution_count": 37,
     "metadata": {},
     "output_type": "execute_result"
    }
   ],
   "source": [
    "x"
   ]
  },
  {
   "cell_type": "code",
   "execution_count": 38,
   "metadata": {},
   "outputs": [
    {
     "data": {
      "text/plain": [
       "0      22.1\n",
       "1      10.4\n",
       "2       9.3\n",
       "3      18.5\n",
       "4      12.9\n",
       "       ... \n",
       "195     7.6\n",
       "196     9.7\n",
       "197    12.8\n",
       "198    25.5\n",
       "199    13.4\n",
       "Name: sales, Length: 200, dtype: float64"
      ]
     },
     "execution_count": 38,
     "metadata": {},
     "output_type": "execute_result"
    }
   ],
   "source": [
    "y"
   ]
  },
  {
   "cell_type": "code",
   "execution_count": 39,
   "metadata": {},
   "outputs": [
    {
     "data": {
      "text/plain": [
       "(200, 3)"
      ]
     },
     "execution_count": 39,
     "metadata": {},
     "output_type": "execute_result"
    }
   ],
   "source": [
    "x.shape"
   ]
  },
  {
   "cell_type": "code",
   "execution_count": 40,
   "metadata": {},
   "outputs": [
    {
     "data": {
      "text/plain": [
       "(200,)"
      ]
     },
     "execution_count": 40,
     "metadata": {},
     "output_type": "execute_result"
    }
   ],
   "source": [
    "y.shape"
   ]
  },
  {
   "cell_type": "code",
   "execution_count": 41,
   "metadata": {},
   "outputs": [],
   "source": [
    "from sklearn.linear_model import LinearRegression\n",
    "from sklearn.model_selection import train_test_split\n",
    "from sklearn.metrics import mean_squared_error,mean_absolute_error"
   ]
  },
  {
   "cell_type": "code",
   "execution_count": 42,
   "metadata": {},
   "outputs": [],
   "source": [
    "x_train,x_test,y_train,y_test=train_test_split(x,y,test_size=0.35,random_state=45)"
   ]
  },
  {
   "cell_type": "code",
   "execution_count": 43,
   "metadata": {},
   "outputs": [
    {
     "data": {
      "text/plain": [
       "(130, 3)"
      ]
     },
     "execution_count": 43,
     "metadata": {},
     "output_type": "execute_result"
    }
   ],
   "source": [
    "x_train.shape"
   ]
  },
  {
   "cell_type": "code",
   "execution_count": 44,
   "metadata": {},
   "outputs": [
    {
     "data": {
      "text/plain": [
       "(70, 3)"
      ]
     },
     "execution_count": 44,
     "metadata": {},
     "output_type": "execute_result"
    }
   ],
   "source": [
    "x_test.shape"
   ]
  },
  {
   "cell_type": "code",
   "execution_count": 45,
   "metadata": {},
   "outputs": [
    {
     "data": {
      "text/plain": [
       "(130,)"
      ]
     },
     "execution_count": 45,
     "metadata": {},
     "output_type": "execute_result"
    }
   ],
   "source": [
    "y_train.shape"
   ]
  },
  {
   "cell_type": "code",
   "execution_count": 46,
   "metadata": {},
   "outputs": [
    {
     "data": {
      "text/plain": [
       "(70,)"
      ]
     },
     "execution_count": 46,
     "metadata": {},
     "output_type": "execute_result"
    }
   ],
   "source": [
    "y_test.shape"
   ]
  },
  {
   "cell_type": "code",
   "execution_count": 47,
   "metadata": {},
   "outputs": [
    {
     "data": {
      "text/plain": [
       "LinearRegression()"
      ]
     },
     "execution_count": 47,
     "metadata": {},
     "output_type": "execute_result"
    }
   ],
   "source": [
    "lm=LinearRegression()\n",
    "lm.fit(x_train,y_train)"
   ]
  },
  {
   "cell_type": "code",
   "execution_count": 48,
   "metadata": {},
   "outputs": [
    {
     "name": "stdout",
     "output_type": "stream",
     "text": [
      "predicted sales [15.11119405 10.09112535 16.37318711 21.69015363 15.88558659  8.93739082\n",
      " 18.04192198 11.26491848 17.29560439  8.51727377 11.33880815  9.61100387\n",
      " 12.13034682 19.35420543 16.90215692  6.41026022 14.18521248  7.64687239\n",
      " 21.03362367 12.34369494 19.16781153  7.40988103 17.43699421 10.08122797\n",
      " 17.10464353  6.93674077 20.53105517 12.1659301  14.98648743 14.2283587\n",
      " 23.11813492 20.33964338 19.98820409 16.55860262  9.87179654  9.97005828\n",
      " 16.75701693 18.35805536 13.1033582  19.50809318 15.36888994 14.01027393\n",
      "  9.54953883 12.1371594  24.710657   11.94818965 13.79446842  8.91256774\n",
      " 22.77452401 14.05320824 24.00818104 18.63296354 20.07767885 13.53748685\n",
      "  9.59880443  9.65902532  9.72243565 19.10139152 20.66960516 17.08997025\n",
      " 17.46345877 16.58036843  4.36560254 12.54511365 10.15558963 19.86497352\n",
      " 13.20977786  7.71398143 14.94532501 10.52384508]\n",
      "Actual sales 45     14.9\n",
      "72      8.8\n",
      "40     16.6\n",
      "58     23.8\n",
      "25     12.0\n",
      "       ... \n",
      "139    20.7\n",
      "161    13.3\n",
      "34      9.5\n",
      "114    14.6\n",
      "94     11.5\n",
      "Name: sales, Length: 70, dtype: float64\n"
     ]
    }
   ],
   "source": [
    "pred=lm.predict(x_test)\n",
    "print('predicted sales',pred)\n",
    "print('Actual sales',y_test)"
   ]
  },
  {
   "cell_type": "code",
   "execution_count": 49,
   "metadata": {},
   "outputs": [
    {
     "data": {
      "text/plain": [
       "3.2894551113315647"
      ]
     },
     "execution_count": 49,
     "metadata": {},
     "output_type": "execute_result"
    }
   ],
   "source": [
    "lm.intercept_"
   ]
  },
  {
   "cell_type": "code",
   "execution_count": 50,
   "metadata": {},
   "outputs": [
    {
     "data": {
      "text/plain": [
       "array([ 0.04741713,  0.18301599, -0.18962186])"
      ]
     },
     "execution_count": 50,
     "metadata": {},
     "output_type": "execute_result"
    }
   ],
   "source": [
    "lm.coef_"
   ]
  },
  {
   "cell_type": "code",
   "execution_count": 51,
   "metadata": {},
   "outputs": [
    {
     "data": {
      "text/plain": [
       "0.8876186912321851"
      ]
     },
     "execution_count": 51,
     "metadata": {},
     "output_type": "execute_result"
    }
   ],
   "source": [
    "lm.score(x_train,y_train)"
   ]
  },
  {
   "cell_type": "code",
   "execution_count": 52,
   "metadata": {},
   "outputs": [
    {
     "name": "stdout",
     "output_type": "stream",
     "text": [
      "2.1861748497483244\n",
      "1.0980954002404812\n",
      "Root Mean squared error: 1.4785718953599531\n"
     ]
    }
   ],
   "source": [
    "print(mean_squared_error(y_test,pred))\n",
    "print(mean_absolute_error(y_test,pred))\n",
    "print('Root Mean squared error:', np.sqrt(mean_squared_error(y_test,pred)))"
   ]
  },
  {
   "cell_type": "code",
   "execution_count": 53,
   "metadata": {},
   "outputs": [
    {
     "data": {
      "text/plain": [
       "0.9059156508728127"
      ]
     },
     "execution_count": 53,
     "metadata": {},
     "output_type": "execute_result"
    }
   ],
   "source": [
    "from sklearn.metrics import r2_score\n",
    "r2_score(y_test,pred)"
   ]
  },
  {
   "cell_type": "code",
   "execution_count": 54,
   "metadata": {},
   "outputs": [],
   "source": [
    "from sklearn.tree import DecisionTreeRegressor\n",
    "from sklearn.svm import SVR\n",
    "from sklearn.neighbors import KNeighborsRegressor"
   ]
  },
  {
   "cell_type": "code",
   "execution_count": 55,
   "metadata": {},
   "outputs": [
    {
     "data": {
      "text/plain": [
       "1.0"
      ]
     },
     "execution_count": 55,
     "metadata": {},
     "output_type": "execute_result"
    }
   ],
   "source": [
    "dtr=DecisionTreeRegressor()\n",
    "dtr.fit(x_train,y_train)\n",
    "dtr.score(x_train,y_train)"
   ]
  },
  {
   "cell_type": "code",
   "execution_count": 56,
   "metadata": {},
   "outputs": [
    {
     "name": "stdout",
     "output_type": "stream",
     "text": [
      "Predicted sales [14.4  9.5 14.9 23.7 12.7 10.4 17.2 12.  17.2  7.  10.4 11.8 12.6 15.6\n",
      " 15.9  8.4 15.6  9.7 21.8 10.9 20.1  6.6 12.3 10.6 18.4  9.3 20.1 12.6\n",
      " 18.  14.4 24.7 22.6 17.4 18.  12.6 11.3 19.6 15.6 14.4 15.5 14.6 11.7\n",
      " 11.8 15.6 25.4 14.4 14.7 11.4 25.4 14.7 25.5 15.5 18.  11.4 11.8 12.6\n",
      " 10.3 15.6 21.8 15.2 17.4 15.6  6.6 12.5 11.  22.6 12.9  9.6 14.7 12.4]\n",
      "Actual sales 45     14.9\n",
      "72      8.8\n",
      "40     16.6\n",
      "58     23.8\n",
      "25     12.0\n",
      "       ... \n",
      "139    20.7\n",
      "161    13.3\n",
      "34      9.5\n",
      "114    14.6\n",
      "94     11.5\n",
      "Name: sales, Length: 70, dtype: float64\n"
     ]
    }
   ],
   "source": [
    "pred=dtr.predict(x_test)\n",
    "print('Predicted sales',pred)\n",
    "print('Actual sales',y_test)"
   ]
  },
  {
   "cell_type": "code",
   "execution_count": 57,
   "metadata": {},
   "outputs": [
    {
     "data": {
      "text/plain": [
       "0.9290150952049838"
      ]
     },
     "execution_count": 57,
     "metadata": {},
     "output_type": "execute_result"
    }
   ],
   "source": [
    "r2_score(y_test,pred)"
   ]
  },
  {
   "cell_type": "code",
   "execution_count": 58,
   "metadata": {},
   "outputs": [
    {
     "name": "stdout",
     "output_type": "stream",
     "text": [
      "1.6494285714285721\n",
      "0.9942857142857144\n",
      "Root Mean squared error: 1.2843008103355584\n"
     ]
    }
   ],
   "source": [
    "print(mean_squared_error(y_test,pred))\n",
    "print(mean_absolute_error(y_test,pred))\n",
    "print('Root Mean squared error:', np.sqrt(mean_squared_error(y_test,pred)))"
   ]
  },
  {
   "cell_type": "code",
   "execution_count": 59,
   "metadata": {},
   "outputs": [
    {
     "data": {
      "text/plain": [
       "0.8194689368346373"
      ]
     },
     "execution_count": 59,
     "metadata": {},
     "output_type": "execute_result"
    }
   ],
   "source": [
    "svr=SVR()\n",
    "svr.fit(x_train,y_train)\n",
    "svr.score(x_train,y_train)"
   ]
  },
  {
   "cell_type": "code",
   "execution_count": 60,
   "metadata": {},
   "outputs": [
    {
     "name": "stdout",
     "output_type": "stream",
     "text": [
      "Predicted sales [15.83043754  8.49635218 16.63421223 19.35173343 15.97568955 10.90812417\n",
      " 17.40570032 11.13001451 16.74763389  8.02287162  9.3904296   9.07810572\n",
      " 13.99284872 17.4502968  16.73615234  8.53827598 15.10655413  9.09533419\n",
      " 19.00289531  9.69858158 18.12711744  7.50139678 16.28063674 12.73777251\n",
      " 16.97341907  9.06959877 18.46657883 14.1287735  15.21414717 15.28504085\n",
      " 19.6775307  18.67768722 17.97673192 16.13148824 12.17805604 10.58837185\n",
      " 15.8610743  16.76358596 14.79436278 17.94172592 15.99470905 15.17340497\n",
      "  8.98521841 13.60008306 19.5210066  13.57752852 10.64474065  9.99684582\n",
      " 19.23831728 11.88464317 19.03280891 17.4734713  18.20948877 14.96227598\n",
      "  9.03970887 11.87093777 12.41236643 17.02431714 18.86751665 17.07708566\n",
      " 17.13107566 16.63630874  7.03536615 11.66395804 12.45783254 18.24294829\n",
      " 12.44548683 10.33554841 12.75114125 11.97277597]\n",
      "Actual sales 45     14.9\n",
      "72      8.8\n",
      "40     16.6\n",
      "58     23.8\n",
      "25     12.0\n",
      "       ... \n",
      "139    20.7\n",
      "161    13.3\n",
      "34      9.5\n",
      "114    14.6\n",
      "94     11.5\n",
      "Name: sales, Length: 70, dtype: float64\n"
     ]
    }
   ],
   "source": [
    "pred=svr.predict(x_test)\n",
    "print('Predicted sales',pred)\n",
    "print('Actual sales',y_test)"
   ]
  },
  {
   "cell_type": "code",
   "execution_count": 61,
   "metadata": {},
   "outputs": [
    {
     "data": {
      "text/plain": [
       "0.7811724479834417"
      ]
     },
     "execution_count": 61,
     "metadata": {},
     "output_type": "execute_result"
    }
   ],
   "source": [
    "r2_score(y_test,pred)"
   ]
  },
  {
   "cell_type": "code",
   "execution_count": 62,
   "metadata": {},
   "outputs": [
    {
     "name": "stdout",
     "output_type": "stream",
     "text": [
      "5.084748899138128\n",
      "1.6202197580103064\n",
      "Root Mean squared error: 2.2549387794656703\n"
     ]
    }
   ],
   "source": [
    "print(mean_squared_error(y_test,pred))\n",
    "print(mean_absolute_error(y_test,pred))\n",
    "print('Root Mean squared error:', np.sqrt(mean_squared_error(y_test,pred)))"
   ]
  },
  {
   "cell_type": "code",
   "execution_count": 63,
   "metadata": {},
   "outputs": [
    {
     "data": {
      "text/plain": [
       "0.8742733325379702"
      ]
     },
     "execution_count": 63,
     "metadata": {},
     "output_type": "execute_result"
    }
   ],
   "source": [
    "svr1=SVR(kernel='linear')\n",
    "svr1.fit(x_train,y_train)\n",
    "svr1.score(x_train,y_train)"
   ]
  },
  {
   "cell_type": "code",
   "execution_count": 64,
   "metadata": {},
   "outputs": [
    {
     "name": "stdout",
     "output_type": "stream",
     "text": [
      "Predicted sales [15.39614988 11.14712037 16.52617937 22.12396395 15.49463349  9.29814671\n",
      " 18.55578291 12.02935157 17.97616171  9.5866029  12.54926114 10.50834396\n",
      " 12.19135242 18.9574684  16.78943422  7.0671997  14.1995879   8.40001305\n",
      " 21.34207174 13.33712092 19.40413889  8.34556186 16.85307246 10.22417698\n",
      " 17.32749739  7.52654889 20.50017797 12.32362454 15.41331013 14.59380087\n",
      " 23.41292839 20.6314551  19.79590722 16.96997505 10.30865907 10.70791716\n",
      " 17.46655464 17.85741253 13.30657428 19.46101065 15.55368533 13.77577125\n",
      " 10.45559696 12.40061788 24.83728517 12.29080524 14.83686306  9.6512086\n",
      " 22.94033929 15.10223357 24.08988803 18.5256626  20.05522994 13.43125453\n",
      " 10.56908854 10.02834085  9.93236532 18.59703881 21.00721745 17.26890504\n",
      " 17.50662268 16.58126822  5.07688729 13.50480167 10.32956904 20.13639288\n",
      " 14.11943778  8.01641722 15.96975085 10.93826416]\n",
      "Actual sales 45     14.9\n",
      "72      8.8\n",
      "40     16.6\n",
      "58     23.8\n",
      "25     12.0\n",
      "       ... \n",
      "139    20.7\n",
      "161    13.3\n",
      "34      9.5\n",
      "114    14.6\n",
      "94     11.5\n",
      "Name: sales, Length: 70, dtype: float64\n"
     ]
    }
   ],
   "source": [
    "pred=svr1.predict(x_test)\n",
    "print('Predicted sales',pred)\n",
    "print('Actual sales',y_test)"
   ]
  },
  {
   "cell_type": "code",
   "execution_count": 65,
   "metadata": {},
   "outputs": [
    {
     "data": {
      "text/plain": [
       "0.9194730786734571"
      ]
     },
     "execution_count": 65,
     "metadata": {},
     "output_type": "execute_result"
    }
   ],
   "source": [
    "r2_score(y_test,pred)"
   ]
  },
  {
   "cell_type": "code",
   "execution_count": 66,
   "metadata": {},
   "outputs": [
    {
     "name": "stdout",
     "output_type": "stream",
     "text": [
      "1.8711500027891304\n",
      "1.0403921478011156\n",
      "Root Mean squared error: 1.3678998511547291\n"
     ]
    }
   ],
   "source": [
    "print(mean_squared_error(y_test,pred))\n",
    "print(mean_absolute_error(y_test,pred))\n",
    "print('Root Mean squared error:', np.sqrt(mean_squared_error(y_test,pred)))"
   ]
  },
  {
   "cell_type": "code",
   "execution_count": 67,
   "metadata": {},
   "outputs": [
    {
     "data": {
      "text/plain": [
       "0.963825375251799"
      ]
     },
     "execution_count": 67,
     "metadata": {},
     "output_type": "execute_result"
    }
   ],
   "source": [
    "knn=KNeighborsRegressor(n_neighbors=5)\n",
    "knn.fit(x_train,y_train)\n",
    "knn.score(x_train,y_train)"
   ]
  },
  {
   "cell_type": "code",
   "execution_count": 68,
   "metadata": {},
   "outputs": [
    {
     "name": "stdout",
     "output_type": "stream",
     "text": [
      "Predicted sales [14.92  9.42 17.5  23.2  13.54 10.36 18.56 11.92 18.18  8.36  9.9  10.2\n",
      " 13.   16.92 14.1   9.04 13.88  9.04 21.88  9.9  20.32  6.62 16.96 11.52\n",
      " 16.98  9.6  21.02 13.   14.68 14.94 21.68 21.26 19.8  16.44 12.08 10.76\n",
      " 16.34 16.96 14.48 19.8  14.96 12.46 10.2  13.3  24.3  13.3  11.02 10.22\n",
      " 22.08 12.46 24.1  18.08 21.26 11.76 10.2  11.96 11.58 16.96 21.88 18.66\n",
      " 18.66 16.66  6.94 12.68 11.86 20.72 13.48  9.82 13.48 11.46]\n",
      "Actual sales 45     14.9\n",
      "72      8.8\n",
      "40     16.6\n",
      "58     23.8\n",
      "25     12.0\n",
      "       ... \n",
      "139    20.7\n",
      "161    13.3\n",
      "34      9.5\n",
      "114    14.6\n",
      "94     11.5\n",
      "Name: sales, Length: 70, dtype: float64\n"
     ]
    }
   ],
   "source": [
    "pred=knn.predict(x_test)\n",
    "print('Predicted sales',pred)\n",
    "print('Actual sales',y_test)"
   ]
  },
  {
   "cell_type": "code",
   "execution_count": 69,
   "metadata": {},
   "outputs": [
    {
     "data": {
      "text/plain": [
       "0.9416822057578558"
      ]
     },
     "execution_count": 69,
     "metadata": {},
     "output_type": "execute_result"
    }
   ],
   "source": [
    "r2_score(y_test,pred)"
   ]
  },
  {
   "cell_type": "code",
   "execution_count": 70,
   "metadata": {},
   "outputs": [
    {
     "name": "stdout",
     "output_type": "stream",
     "text": [
      "1.3550914285714284\n",
      "0.8574285714285717\n",
      "Root Mean squared error: 1.1640839439539694\n"
     ]
    }
   ],
   "source": [
    "print(mean_squared_error(y_test,pred))\n",
    "print(mean_absolute_error(y_test,pred))\n",
    "print('Root Mean squared error:', np.sqrt(mean_squared_error(y_test,pred)))"
   ]
  },
  {
   "cell_type": "markdown",
   "metadata": {},
   "source": [
    "The scores can be because of overfitting. Lets check with cross validation."
   ]
  },
  {
   "cell_type": "markdown",
   "metadata": {},
   "source": [
    "# Cross Validation"
   ]
  },
  {
   "cell_type": "code",
   "execution_count": 71,
   "metadata": {},
   "outputs": [
    {
     "name": "stdout",
     "output_type": "stream",
     "text": [
      "[0.87794127 0.91727665 0.92974124 0.8132857  0.89534992]\n",
      "0.8867189551455242\n"
     ]
    }
   ],
   "source": [
    "from sklearn.model_selection import cross_val_score\n",
    "score=cross_val_score(lm,x,y,cv=5)\n",
    "print(score)\n",
    "print(score.mean())"
   ]
  },
  {
   "cell_type": "code",
   "execution_count": 72,
   "metadata": {},
   "outputs": [
    {
     "name": "stdout",
     "output_type": "stream",
     "text": [
      "[0.96511265 0.94988827 0.93946007 0.95807386 0.96639077]\n",
      "0.9557851231708587\n"
     ]
    }
   ],
   "source": [
    "score=cross_val_score(dtr,x,y,cv=5)\n",
    "print(score)\n",
    "print(score.mean())"
   ]
  },
  {
   "cell_type": "code",
   "execution_count": 73,
   "metadata": {},
   "outputs": [
    {
     "name": "stdout",
     "output_type": "stream",
     "text": [
      "[0.84816642 0.87378595 0.81953129 0.84336919 0.78014177]\n",
      "0.8329989231564319\n"
     ]
    }
   ],
   "source": [
    "score=cross_val_score(svr,x,y,cv=5)\n",
    "print(score)\n",
    "print(score.mean())"
   ]
  },
  {
   "cell_type": "code",
   "execution_count": 74,
   "metadata": {},
   "outputs": [
    {
     "name": "stdout",
     "output_type": "stream",
     "text": [
      "[0.86911485 0.92033895 0.94527731 0.76638912 0.89734072]\n",
      "0.8796921906123639\n"
     ]
    }
   ],
   "source": [
    "score=cross_val_score(svr1,x,y,cv=5)\n",
    "print(score)\n",
    "print(score.mean())"
   ]
  },
  {
   "cell_type": "code",
   "execution_count": 75,
   "metadata": {},
   "outputs": [
    {
     "name": "stdout",
     "output_type": "stream",
     "text": [
      "[0.95785352 0.9648751  0.96942198 0.93520667 0.94148362]\n",
      "0.9537681795353301\n"
     ]
    }
   ],
   "source": [
    "score=cross_val_score(knn,x,y,cv=5)\n",
    "print(score)\n",
    "print(score.mean())"
   ]
  },
  {
   "cell_type": "markdown",
   "metadata": {},
   "source": [
    "The least difference between the highest accuracy score and cv says that decision tree regressor model is performing better."
   ]
  },
  {
   "cell_type": "markdown",
   "metadata": {},
   "source": [
    "# Hyper Prameter Tuning"
   ]
  },
  {
   "cell_type": "markdown",
   "metadata": {},
   "source": [
    "We use this technique to improve the accuracy of the best model that we have choosen."
   ]
  },
  {
   "cell_type": "code",
   "execution_count": 80,
   "metadata": {},
   "outputs": [
    {
     "data": {
      "text/plain": [
       "GridSearchCV(cv=5, estimator=DecisionTreeRegressor(),\n",
       "             param_grid={'criterion': ['mse', 'friedman_mse', 'mae', 'poisson'],\n",
       "                         'max_depth': range(2, 20, 2),\n",
       "                         'max_features': ['auto', 'sqrt', 'log2'],\n",
       "                         'min_samples_leaf': range(1, 10),\n",
       "                         'min_samples_split': range(2, 10),\n",
       "                         'splitter': ['best', 'random']})"
      ]
     },
     "execution_count": 80,
     "metadata": {},
     "output_type": "execute_result"
    }
   ],
   "source": [
    "from sklearn.model_selection import GridSearchCV\n",
    "parameters={'criterion':['mse','friedman_mse','mae','poisson'],\n",
    "           'splitter':['best','random'],\n",
    "            'max_depth':range(2,20,2),\n",
    "            'min_samples_split':range(2,10,1),\n",
    "            'min_samples_leaf':range(1,10,1),\n",
    "            'max_features':['auto','sqrt','log2']}\n",
    "gs=GridSearchCV(DecisionTreeRegressor(),parameters,cv=5)\n",
    "gs.fit(x_train,y_train)"
   ]
  },
  {
   "cell_type": "code",
   "execution_count": 81,
   "metadata": {},
   "outputs": [
    {
     "name": "stdout",
     "output_type": "stream",
     "text": [
      "{'criterion': 'mse', 'max_depth': 14, 'max_features': 'auto', 'min_samples_leaf': 1, 'min_samples_split': 2, 'splitter': 'random'}\n"
     ]
    }
   ],
   "source": [
    "print(gs.best_params_)"
   ]
  },
  {
   "cell_type": "code",
   "execution_count": 83,
   "metadata": {},
   "outputs": [
    {
     "name": "stdout",
     "output_type": "stream",
     "text": [
      "1.0\n"
     ]
    }
   ],
   "source": [
    "dtrmodel=DecisionTreeRegressor(criterion='mse',max_depth=14,max_features='auto',min_samples_leaf=1,min_samples_split=2,splitter='random')\n",
    "dtrmodel.fit(x_train,y_train)\n",
    "score=dtrmodel.score(x_train,y_train)\n",
    "print(score)"
   ]
  },
  {
   "cell_type": "markdown",
   "metadata": {},
   "source": [
    "# Saving the model"
   ]
  },
  {
   "cell_type": "code",
   "execution_count": 84,
   "metadata": {},
   "outputs": [
    {
     "data": {
      "text/plain": [
       "['dtrmodel.obj']"
      ]
     },
     "execution_count": 84,
     "metadata": {},
     "output_type": "execute_result"
    }
   ],
   "source": [
    "import joblib\n",
    "joblib.dump(dtrmodel,'dtrmodel.obj')"
   ]
  },
  {
   "cell_type": "code",
   "execution_count": null,
   "metadata": {},
   "outputs": [],
   "source": []
  }
 ],
 "metadata": {
  "kernelspec": {
   "display_name": "Python 3",
   "language": "python",
   "name": "python3"
  },
  "language_info": {
   "codemirror_mode": {
    "name": "ipython",
    "version": 3
   },
   "file_extension": ".py",
   "mimetype": "text/x-python",
   "name": "python",
   "nbconvert_exporter": "python",
   "pygments_lexer": "ipython3",
   "version": "3.8.5"
  }
 },
 "nbformat": 4,
 "nbformat_minor": 4
}
